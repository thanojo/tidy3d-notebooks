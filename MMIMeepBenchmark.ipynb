{
 "cells": [
  {
   "cell_type": "markdown",
   "metadata": {},
   "source": [
    "# Tidy3D FDTD accuracy benchmark\n",
    "\n",
    "Tidy3D offers a lightning-fast FDTD solver capable of completing simulations in a fraction of the time required by traditional FDTD solvers, reducing runtimes from hours or days to mere minutes. This is achieved through cutting-edge integration between our hardware and state-of-the-art numerical methods, which involves no approximations. Therefore, this enhanced speed does not compromise accuracy, as reliable results remain paramount to the utility of any simulation tool.\n",
    "\n",
    "In order to investigate Tidy3D speed advantage and confirm its robustness, we will compare the results of a MMI power divider, available in our [application library](https://tidy3d.simulation.cloud/workbench?taskId=pa-5e58d0d7-c3dc-446c-9309-fab8b94da423), with those from the open-source software Meep."
   ]
  },
  {
   "cell_type": "code",
   "execution_count": 1,
   "metadata": {},
   "outputs": [],
   "source": [
    "import tidy3d as td\n",
    "from tidy3d import web\n",
    "import numpy as np\n",
    "import matplotlib.pyplot as plt"
   ]
  },
  {
   "cell_type": "markdown",
   "metadata": {},
   "source": [
    "## FDTD Simulation\n",
    "\n",
    "The model is based on our web GUI [example](https://tidy3d.simulation.cloud/workbench?taskId=pa-5e58d0d7-c3dc-446c-9309-fab8b94da423). Below is the code exported directly from the GUI with minor modifications, including added comments and changes to variable names for improved readability:"
   ]
  },
  {
   "cell_type": "code",
   "execution_count": 2,
   "metadata": {},
   "outputs": [],
   "source": [
    "# defining parameters\n",
    "si_index = 3.48\n",
    "sio2_index = 1.46\n",
    "central_wavelength = 1.55\n",
    "waveguide_width = 0.5\n",
    "waveguide_thickness = 0.22\n",
    "waveguide_length = 2\n",
    "mmi_width = 3.6\n",
    "mmi_length = 11.5\n",
    "output_separation = 0.6\n",
    "taper_width = 1.2\n",
    "taper_length = 20.05\n",
    "SiO2_medium = td.Medium(\n",
    "    name=\"SiO2\",\n",
    "    permittivity=2.1316,\n",
    ")\n",
    "\n",
    "# operating frequency\n",
    "freq0 = 193.414e12\n",
    "fwidth = 6.24568e12\n",
    "\n",
    "freqs = np.linspace(freq0 - fwidth, freq0 + fwidth, 50)\n",
    "\n",
    "# mode source\n",
    "Mode_source = td.ModeSource(\n",
    "    name=\"Mode source\",\n",
    "    num_freqs=10,\n",
    "    center=[-mmi_length / 2 - taper_length - waveguide_length / 2, 0, 0],\n",
    "    size=[0, 3 * waveguide_width, 4 * waveguide_thickness],\n",
    "    source_time=td.GaussianPulse(\n",
    "        freq0=193414489032258.06,\n",
    "        fwidth=6245676208333.328,\n",
    "    ),\n",
    "    direction=\"+\",\n",
    "    mode_spec=td.ModeSpec(\n",
    "        target_neff=3.48,\n",
    "    ),\n",
    ")\n",
    "\n",
    "# defining monitors for calculating transmittance and field visualization\n",
    "\n",
    "Flux_monitor = td.FluxMonitor(\n",
    "    name=\"Flux monitor\",\n",
    "    center=[\n",
    "        mmi_length / 2 + taper_length + waveguide_length / 2,\n",
    "        (output_separation + taper_width) / 2,\n",
    "        0,\n",
    "    ],\n",
    "    size=[0, 3 * waveguide_width, 4 * waveguide_thickness],\n",
    "    freqs=freqs,\n",
    "    normal_dir=\"+\",\n",
    ")\n",
    "\n",
    "Flux_monitorRef = td.FluxMonitor(\n",
    "    name=\"Ref monitor\",\n",
    "    center=(Mode_source.center[0] + 0.5, Mode_source.center[1], Mode_source.center[2]),\n",
    "    size=Mode_source.size,\n",
    "    freqs=freqs,\n",
    "    normal_dir=\"+\",\n",
    ")\n",
    "\n",
    "\n",
    "Mode_monitor = td.ModeMonitor(\n",
    "    name=\"Mode monitor\",\n",
    "    center=[\n",
    "        mmi_length / 2 + taper_length + waveguide_length / 2,\n",
    "        (output_separation + taper_width) / 2,\n",
    "        0,\n",
    "    ],\n",
    "    size=[0, 3 * waveguide_width, 4 * waveguide_thickness],\n",
    "    freqs=freqs,\n",
    "    mode_spec=td.ModeSpec(\n",
    "        num_modes=3,\n",
    "        target_neff=3.48,\n",
    "    ),\n",
    ")\n",
    "\n",
    "Field_monitor = td.FieldMonitor(\n",
    "    name=\"Field monitor\", size=[td.inf, td.inf, 0], freqs=[freq0], colocate=False\n",
    ")\n",
    "\n",
    "# defining mediums\n",
    "Si_medium = td.Medium(\n",
    "    name=\"Si\",\n",
    "    permittivity=12.1104,\n",
    ")\n",
    "\n",
    "# defining structures\n",
    "MMI_section = td.Structure(\n",
    "    name=\"MMI section\",\n",
    "    geometry=td.Box(size=[mmi_length, mmi_width, waveguide_thickness]),\n",
    "    medium=Si_medium,\n",
    ")\n",
    "\n",
    "Input_taper = td.Structure(\n",
    "    name=\"Input taper\",\n",
    "    geometry=td.PolySlab(\n",
    "        slab_bounds=[-waveguide_thickness / 2, waveguide_thickness / 2],\n",
    "        vertices=[\n",
    "            [-mmi_length / 2 - taper_length, waveguide_width / 2],\n",
    "            [-mmi_length / 2, taper_width / 2],\n",
    "            [-mmi_length / 2, -taper_width / 2],\n",
    "            [-mmi_length / 2 - taper_length, -waveguide_width / 2],\n",
    "        ],\n",
    "    ),\n",
    "    medium=Si_medium,\n",
    ")\n",
    "\n",
    "Output_taper__top_ = td.Structure(\n",
    "    name=\"Output taper (top)\",\n",
    "    geometry=td.PolySlab(\n",
    "        slab_bounds=[-0.11, 0.11],\n",
    "        vertices=[\n",
    "            [mmi_length / 2, output_separation / 2],\n",
    "            [mmi_length / 2, output_separation / 2 + taper_width],\n",
    "            [\n",
    "                mmi_length / 2 + taper_length,\n",
    "                (output_separation + waveguide_width + taper_width) / 2,\n",
    "            ],\n",
    "            [\n",
    "                mmi_length / 2 + taper_length,\n",
    "                (output_separation - waveguide_width + taper_width) / 2,\n",
    "            ],\n",
    "        ],\n",
    "    ),\n",
    "    medium=Si_medium,\n",
    ")\n",
    "\n",
    "Output_taper__bottom_ = td.Structure(\n",
    "    name=\"Output taper (bottom)\",\n",
    "    geometry=td.PolySlab(\n",
    "        slab_bounds=[-0.11, 0.11],\n",
    "        vertices=[\n",
    "            [mmi_length / 2, -output_separation / 2],\n",
    "            [mmi_length / 2, -output_separation / 2 - taper_width],\n",
    "            [\n",
    "                mmi_length / 2 + taper_length,\n",
    "                -(output_separation + waveguide_width + taper_width) / 2,\n",
    "            ],\n",
    "            [\n",
    "                mmi_length / 2 + taper_length,\n",
    "                -(output_separation - waveguide_width + taper_width) / 2,\n",
    "            ],\n",
    "        ],\n",
    "    ),\n",
    "    medium=Si_medium,\n",
    ")\n",
    "\n",
    "Input_straight_waveguide = td.Structure(\n",
    "    name=\"Input straight waveguide\",\n",
    "    geometry=td.Box(center=[-32.9, 0, 0], size=[14.2, 0.5, 0.22]),\n",
    "    medium=Si_medium,\n",
    ")\n",
    "\n",
    "Output_straight_waveguide__top_ = td.Structure(\n",
    "    name=\"Output straight waveguide (top)\",\n",
    "    geometry=td.Box(center=[32.9, 0.9, 0], size=[14.2, 0.5, 0.22]),\n",
    "    medium=Si_medium,\n",
    ")\n",
    "\n",
    "Output_straight_waveguide__bottom_ = td.Structure(\n",
    "    name=\"Output straight waveguide (bottom)\",\n",
    "    geometry=td.Box(center=[32.9, -0.9, 0], size=[14.2, 0.5, 0.22]),\n",
    "    medium=Si_medium,\n",
    ")\n",
    "\n",
    "grid_spec = td.GridSpec.auto(min_steps_per_wvl=11)\n",
    "\n",
    "sim_base = td.Simulation(\n",
    "    size=[55.6, 6.925, 2.1],\n",
    "    symmetry=[0, -1, 0],\n",
    "    run_time=3e-12,\n",
    "    grid_spec=grid_spec,\n",
    "    medium=SiO2_medium,\n",
    "    sources=[Mode_source],\n",
    "    monitors=[Flux_monitor, Mode_monitor, Field_monitor, Flux_monitorRef],\n",
    "    structures=[\n",
    "        MMI_section,\n",
    "        Input_taper,\n",
    "        Output_taper__top_,\n",
    "        Output_taper__bottom_,\n",
    "        Input_straight_waveguide,\n",
    "        Output_straight_waveguide__top_,\n",
    "        Output_straight_waveguide__bottom_,\n",
    "    ],\n",
    "    boundary_spec=td.BoundarySpec(\n",
    "        x=td.Boundary.pml(), y=td.Boundary.pml(), z=td.Boundary.pml()\n",
    "    ),\n",
    ")"
   ]
  },
  {
   "cell_type": "code",
   "execution_count": 3,
   "metadata": {},
   "outputs": [
    {
     "data": {
      "image/png": "[encoded data removed]",
      "text/plain": [
       "<Figure size 640x480 with 1 Axes>"
      ]
     },
     "metadata": {},
     "output_type": "display_data"
    }
   ],
   "source": [
    "# plotting the simulation\n",
    "sim_base.plot(z=0)\n",
    "plt.show()"
   ]
  },
  {
   "cell_type": "markdown",
   "metadata": {},
   "source": [
    "The Meep simulation was built to be equivalent to the Tidy3D one. The geometry was imported from the GDS file generated by the Tidy3D model, and the source and output monitor were positioned exactly as they are in Tidy3D. Since Meep sources are not normalized like those in Tidy3D, an additional monitor was placed immediately after the source in the Meep simulation to normalize the output. A schematic of the Meep model is shown in the figure below, where the red line represents the mode source, the blue lines represent the monitors, and the green area indicates the PML.\n",
    "\n",
    "<img src=\"img/MeepMMIBenchmark.png\" width=\"600\" alt=\"Schematic of the experiment\">"
   ]
  },
  {
   "cell_type": "markdown",
   "metadata": {},
   "source": [
    "The Meep resolution was set to 30 steps per $\\mu\\text{m}$, which corresponds to approximately 13 steps per wavelength in silicon. Therefore, we will create and run a new Tidy3D simulation object with this grid specification."
   ]
  },
  {
   "cell_type": "code",
   "execution_count": 4,
   "metadata": {},
   "outputs": [
    {
     "data": {
      "text/html": [
       "<pre style=\"white-space:pre;overflow-x:auto;line-height:normal;font-family:Menlo,'DejaVu Sans Mono',consolas,'Courier New',monospace\"><span style=\"color: #7fbfbf; text-decoration-color: #7fbfbf\">15:08:01 -03 </span>Created task <span style=\"color: #008000; text-decoration-color: #008000\">'MMI'</span> with task_id                                    \n",
       "<span style=\"color: #7fbfbf; text-decoration-color: #7fbfbf\">             </span><span style=\"color: #008000; text-decoration-color: #008000\">'fdve-991cf90e-25a1-44f0-a148-813696c6c088'</span> and task_type <span style=\"color: #008000; text-decoration-color: #008000\">'FDTD'</span>.  \n",
       "</pre>\n"
      ],
      "text/plain": [
       "\u001b[2;36m15:08:01 -03\u001b[0m\u001b[2;36m \u001b[0mCreated task \u001b[32m'MMI'\u001b[0m with task_id                                    \n",
       "\u001b[2;36m             \u001b[0m\u001b[32m'fdve-991cf90e-25a1-44f0-a148-813696c6c088'\u001b[0m and task_type \u001b[32m'FDTD'\u001b[0m.  \n"
      ]
     },
     "metadata": {},
     "output_type": "display_data"
    },
    {
     "data": {
      "text/html": [
       "<pre style=\"white-space:pre;overflow-x:auto;line-height:normal;font-family:Menlo,'DejaVu Sans Mono',consolas,'Courier New',monospace\"><span style=\"color: #7fbfbf; text-decoration-color: #7fbfbf\">             </span>View task using web UI at                                          \n",
       "<span style=\"color: #7fbfbf; text-decoration-color: #7fbfbf\">             </span><a href=\"https://tidy3d.simulation.cloud/workbench?taskId=fdve-991cf90e-25a1-44f0-a148-813696c6c088\" target=\"_blank\"><span style=\"color: #008000; text-decoration-color: #008000\">'https://tidy3d.simulation.cloud/workbench?taskId=fdve-991cf90e-25a</span></a>\n",
       "<span style=\"color: #7fbfbf; text-decoration-color: #7fbfbf\">             </span><a href=\"https://tidy3d.simulation.cloud/workbench?taskId=fdve-991cf90e-25a1-44f0-a148-813696c6c088\" target=\"_blank\"><span style=\"color: #008000; text-decoration-color: #008000\">1-44f0-a148-813696c6c088'</span></a>.                                         \n",
       "</pre>\n"
      ],
      "text/plain": [
       "\u001b[2;36m            \u001b[0m\u001b[2;36m \u001b[0mView task using web UI at                                          \n",
       "\u001b[2;36m             \u001b[0m\u001b]8;id=299954;https://tidy3d.simulation.cloud/workbench?taskId=fdve-991cf90e-25a1-44f0-a148-813696c6c088\u001b\\\u001b[32m'https://tidy3d.simulation.cloud/workbench?\u001b[0m\u001b]8;;\u001b\\\u001b]8;id=139427;https://tidy3d.simulation.cloud/workbench?taskId=fdve-991cf90e-25a1-44f0-a148-813696c6c088\u001b\\\u001b[32mtaskId\u001b[0m\u001b]8;;\u001b\\\u001b]8;id=299954;https://tidy3d.simulation.cloud/workbench?taskId=fdve-991cf90e-25a1-44f0-a148-813696c6c088\u001b\\\u001b[32m=\u001b[0m\u001b]8;;\u001b\\\u001b]8;id=614257;https://tidy3d.simulation.cloud/workbench?taskId=fdve-991cf90e-25a1-44f0-a148-813696c6c088\u001b\\\u001b[32mfdve\u001b[0m\u001b]8;;\u001b\\\u001b]8;id=299954;https://tidy3d.simulation.cloud/workbench?taskId=fdve-991cf90e-25a1-44f0-a148-813696c6c088\u001b\\\u001b[32m-991cf90e-25a\u001b[0m\u001b]8;;\u001b\\\n",
       "\u001b[2;36m             \u001b[0m\u001b]8;id=299954;https://tidy3d.simulation.cloud/workbench?taskId=fdve-991cf90e-25a1-44f0-a148-813696c6c088\u001b\\\u001b[32m1-44f0-a148-813696c6c088'\u001b[0m\u001b]8;;\u001b\\.                                         \n"
      ]
     },
     "metadata": {},
     "output_type": "display_data"
    },
    {
     "data": {
      "application/vnd.jupyter.widget-view+json": {
       "model_id": "bef8175695bc4d0cb79550c055e9bd43",
       "version_major": 2,
       "version_minor": 0
      },
      "text/plain": [
       "Output()"
      ]
     },
     "metadata": {},
     "output_type": "display_data"
    },
    {
     "data": {
      "text/html": [
       "<pre style=\"white-space:pre;overflow-x:auto;line-height:normal;font-family:Menlo,'DejaVu Sans Mono',consolas,'Courier New',monospace\"></pre>\n"
      ],
      "text/plain": []
     },
     "metadata": {},
     "output_type": "display_data"
    },
    {
     "data": {
      "text/html": [
       "<pre style=\"white-space:pre;overflow-x:auto;line-height:normal;font-family:Menlo,'DejaVu Sans Mono',consolas,'Courier New',monospace\"><span style=\"color: #7fbfbf; text-decoration-color: #7fbfbf\">15:08:03 -03 </span>Maximum FlexCredit cost: <span style=\"color: #008080; text-decoration-color: #008080; font-weight: bold\">0.158</span>. Minimum cost depends on task       \n",
       "<span style=\"color: #7fbfbf; text-decoration-color: #7fbfbf\">             </span>execution details. Use <span style=\"color: #008000; text-decoration-color: #008000\">'web.real_cost(task_id)'</span> to get the billed  \n",
       "<span style=\"color: #7fbfbf; text-decoration-color: #7fbfbf\">             </span>FlexCredit cost after a simulation run.                            \n",
       "</pre>\n"
      ],
      "text/plain": [
       "\u001b[2;36m15:08:03 -03\u001b[0m\u001b[2;36m \u001b[0mMaximum FlexCredit cost: \u001b[1;36m0.158\u001b[0m. Minimum cost depends on task       \n",
       "\u001b[2;36m             \u001b[0mexecution details. Use \u001b[32m'web.real_cost\u001b[0m\u001b[32m(\u001b[0m\u001b[32mtask_id\u001b[0m\u001b[32m)\u001b[0m\u001b[32m'\u001b[0m to get the billed  \n",
       "\u001b[2;36m             \u001b[0mFlexCredit cost after a simulation run.                            \n"
      ]
     },
     "metadata": {},
     "output_type": "display_data"
    },
    {
     "data": {
      "text/html": [
       "<pre style=\"white-space:pre;overflow-x:auto;line-height:normal;font-family:Menlo,'DejaVu Sans Mono',consolas,'Courier New',monospace\"><span style=\"color: #7fbfbf; text-decoration-color: #7fbfbf\">15:08:04 -03 </span>status = success                                                   \n",
       "</pre>\n"
      ],
      "text/plain": [
       "\u001b[2;36m15:08:04 -03\u001b[0m\u001b[2;36m \u001b[0mstatus = success                                                   \n"
      ]
     },
     "metadata": {},
     "output_type": "display_data"
    },
    {
     "data": {
      "application/vnd.jupyter.widget-view+json": {
       "model_id": "d7e4d09098be4d00b483f3bfea162717",
       "version_major": 2,
       "version_minor": 0
      },
      "text/plain": [
       "Output()"
      ]
     },
     "metadata": {},
     "output_type": "display_data"
    },
    {
     "data": {
      "text/html": [
       "<pre style=\"white-space:pre;overflow-x:auto;line-height:normal;font-family:Menlo,'DejaVu Sans Mono',consolas,'Courier New',monospace\"></pre>\n"
      ],
      "text/plain": []
     },
     "metadata": {},
     "output_type": "display_data"
    },
    {
     "data": {
      "text/html": [
       "<pre style=\"white-space:pre;overflow-x:auto;line-height:normal;font-family:Menlo,'DejaVu Sans Mono',consolas,'Courier New',monospace\"><span style=\"color: #7fbfbf; text-decoration-color: #7fbfbf\">15:08:10 -03 </span>loading simulation from simulation_data.hdf5                       \n",
       "</pre>\n"
      ],
      "text/plain": [
       "\u001b[2;36m15:08:10 -03\u001b[0m\u001b[2;36m \u001b[0mloading simulation from simulation_data.hdf5                       \n"
      ]
     },
     "metadata": {},
     "output_type": "display_data"
    }
   ],
   "source": [
    "grid_spec = td.GridSpec.auto(min_steps_per_wvl=13)\n",
    "sim = sim_base.updated_copy(grid_spec=grid_spec)\n",
    "sim_data = web.run(simulation=sim, task_name=\"MMI\")"
   ]
  },
  {
   "cell_type": "markdown",
   "metadata": {},
   "source": [
    "## Comparing Results"
   ]
  },
  {
   "cell_type": "markdown",
   "metadata": {},
   "source": [
    "Next, we load the results obtained from running the Meep model on a local machine and compare them with those from Tidy3D. As we can see, the results are very similar. Tidy3D completes the simulation in about 2 minutes, while Meep takes approximately 690 minutes to run on a laptop using 10 i7-1365U processors — a time difference of over 300 times."
   ]
  },
  {
   "cell_type": "code",
   "execution_count": 5,
   "metadata": {},
   "outputs": [
    {
     "data": {
      "image/png": "[encoded data removed]",
      "text/plain": [
       "<Figure size 640x480 with 1 Axes>"
      ]
     },
     "metadata": {},
     "output_type": "display_data"
    }
   ],
   "source": [
    "fig, ax = plt.subplots()\n",
    "\n",
    "# loading Meep data\n",
    "meep_data = np.loadtxt(\"misc/MeepMMI.txt\")\n",
    "freqs = meep_data.T[0]\n",
    "flux = meep_data.T[1]\n",
    "\n",
    "ax.plot(td.C_0 / freqs, flux, label=\"Meep\")\n",
    "\n",
    "ax.plot(\n",
    "    td.C_0 / sim_data[\"Flux monitor\"].flux.f,\n",
    "    sim_data[\"Flux monitor\"].flux,\n",
    "    alpha=0.4,\n",
    "    label=\"Tidy3D\",\n",
    ")\n",
    "ax.legend()\n",
    "ax.set_ylim(0.425, 0.525)\n",
    "\n",
    "ax.set_ylabel(\"Transmittance\")\n",
    "ax.set_xlabel(\"Wavelength ($\\mu$m)\")\n",
    "\n",
    "plt.show()"
   ]
  },
  {
   "cell_type": "markdown",
   "metadata": {},
   "source": [
    "## Final Remarks\n",
    "\n",
    "As we can see, the results deviate only due to numerical errors, likely caused by differences in meshing and subpixel averaging strategies.\n",
    "\n",
    "Additionally, one could argue that the speed comparison may not be entirely fair, as the Tidy3D simulation was run on more powerful hardware. However, a direct comparison is not possible since Meep does not support GPU acceleration.\n",
    "\n",
    "From a user’s perspective, both simulations were built and submitted on the same laptop. Therefore, Tidy3D offers the advantage of cloud computing, meaning that users do not need powerful hardware on hand to benefit from the speed advantage, nor do they need to dedicate a workstation for hours to a single simulation."
   ]
  }
 ],
 "metadata": {
  "description": "This notebook presents a benchmark of an MMI interference power divider compared to Meep.",
  "kernelspec": {
   "display_name": "pre_2.8",
   "language": "python",
   "name": "python3"
  },
  "keywords": "MMI, Meep, mode solver, modes, Tidy3D, FDTD",
  "language_info": {
   "codemirror_mode": {
    "name": "ipython",
    "version": 3
   },
   "file_extension": ".py",
   "mimetype": "text/x-python",
   "name": "python",
   "nbconvert_exporter": "python",
   "pygments_lexer": "ipython3",
   "version": "3.11.10"
  },
  "title": "Benchmark of an MMI Interference Power Divider Compared to Meep | Flexcompute"
 },
 "nbformat": 4,
 "nbformat_minor": 4
}
