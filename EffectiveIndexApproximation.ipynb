{
 "cells": [
  {
   "cell_type": "markdown",
   "id": "e46397ed-22f3-4cac-be17-484c6396f5ba",
   "metadata": {},
   "source": [
    "# 2D effective index approximation of 3D simulations\n",
    "\n",
    "Large-scale 3D FDTD simulations are often required for accurate results but are associated with significant time and costs. Therefore, the development of methods to approximate 3D simulations using 2D models presents notable advantages. For instance, during the initial phase of design exploration, employing 2D simulations can effectively narrow down the range of parameters, with 3D simulations subsequently refining and finalizing the design.\n",
    "\n",
    "This notebook introduces an efficient index approximation method that enables the approximation of 3D FDTD simulations through 2D simulations, substantially reducing computational resources and simulation times, potentially by orders of magnitude, while still retaining a reasonable level of accuracy. This method is particularly suitable for modeling integrated photonic devices that support waveguide modes. We first outline the process for calculating the effective permittivity for the 2D simulation using the variational method.\n",
    "\n",
    "Following this, we compare the results of 1D approximation of a 2D device, and a 2D approximation of a 3D device to validate the approximation method's effectiveness. The findings indicate that, when applied appropriately, the approximated simulation maintains an acceptable fidelity to the corresponding full simulation response.\n",
    "\n",
    "<a href=\"https://doi.org/10.1007/s11082-009-9349-3\"><img src=\"img/effective_index_approximation.png\" width=\"500\" alt=\"Schematic of 2D-ifying\" ></a>\n",
    "\n",
    "First we start by importing the necessary libraries for our simulations:"
   ]
  },
  {
   "cell_type": "code",
   "execution_count": 1,
   "id": "835923fe-ae93-4798-a838-0a0cf493280f",
   "metadata": {},
   "outputs": [],
   "source": [
    "import numpy as np\n",
    "import matplotlib.pyplot as plt\n",
    "import gdstk\n",
    "\n",
    "import tidy3d as td\n",
    "import tidy3d.web as web\n",
    "from tidy3d.plugins.dispersion import FastDispersionFitter, AdvancedFastFitterParam"
   ]
  },
  {
   "cell_type": "markdown",
   "id": "061a0426-269f-4408-a548-25ac000e1860",
   "metadata": {},
   "source": [
    "## Variational Effective Permittivity\n",
    "\n",
    "In order to match the material of our 2D structures with those of the corresponding 3D structures, we will calculate the <b>variational effective permittivity</b>, taken from `Manfred Hammer and Olena V. Ivanova, \"Effective index approximations of photonic crystal slabs: a 2-to-1-D assessment,\" Opt Quant Electron 41, 267–283 (2009)`[DOI:10.1007/s11082-009-9349-3](https://doi.org/10.1007/s11082-009-9349-3):<br>\n",
    "$$\n",
    "\\epsilon_{eff}(x,y)=n_{eff}(x_r,y_r)^2+\\frac{\\int_z[\\epsilon(x,y,z)-\\epsilon(x_r,y_r,z,\\omega)]|M_r(z,\\omega)|^2dz}{\\int_z|M_r(z,\\omega)|^2dz},\n",
    "$$<br>\n",
    "where $x_r,y_r$ are the coordinates of the reference point, $n_{eff}(x_r,y_r)$ is the effective index of the slab waveguide, given the permittivity profile in the z direction, at the reference point, $\\epsilon$ is the permittivity profile, and $M_{ref}(z,\\omega)$ is the mode profile in $z$ at the reference point. This formula is based on the assumption that the different vertical slab modes remain relatively uncoupled.<br><br>\n",
    "\n",
    "The reference profile in $z$ at point $(x_r,y_r)$ is what we choose to compare other $z$ profiles against. In our examples, we choose this point to include the location of our waveguide.<br><br>\n",
    "\n",
    "Note: This is only the effective permittivity for the TE mode. A separate TM mode formula exists, and the interested user should refer to the TM formula given in the paper. Also, in the paper, the extrusion dimension is x. In our examples, the extrusion dimension is z."
   ]
  },
  {
   "cell_type": "code",
   "execution_count": 2,
   "id": "7aa0e0a9-57c4-41af-ae80-5583cc96e508",
   "metadata": {},
   "outputs": [],
   "source": [
    "import scipy.interpolate\n",
    "from tidy3d.plugins.mode.web import run as run_mode_solver\n",
    "\n",
    "\n",
    "def var_eps_eff(point, ref_point, sim, wavelength=1.55, inf=1000, min_n=1, remote=False):\n",
    "    \"\"\"\n",
    "    To calculate the vertical slab mode at 'ref_point', we will create a 2D slice of the given simulation at\n",
    "    'ref_point' that extends in the yz plane infinitely, ensuring that it captures the entire permittivity\n",
    "    profile. Then, to find the 1D mode profile, we use the Tidy3D ModeSolver on a plane at 'ref_point' that\n",
    "    extends infinitely in the xz plane. This results in the ModeSolver operating on the intersecting line\n",
    "    at 'ref_point' that covers its entire z profile. We then use this to solve for n_eff and M in the above\n",
    "    formula.\n",
    "\n",
    "    The min_n parameter is set to ensure that the calculated refractive index is at least 1. This\n",
    "    calculation can well end up with a value less than 1, as mentioned in the paper. To ensure that the\n",
    "    returned refractive index is physical, we set min_n to 1 by default.\n",
    "\n",
    "    There is also the option to use the remote mode solver if the user desires greater accuracy.\n",
    "    \"\"\"\n",
    "    freq = td.C_0 / wavelength\n",
    "\n",
    "    sim_2d_center = (\n",
    "        ref_point[0],\n",
    "        ref_point[1],\n",
    "        0,\n",
    "    )  # given a 3D sim, we update the center to create our 2D slice\n",
    "    sim_2d_size = (\n",
    "        0,\n",
    "        inf,\n",
    "        inf,\n",
    "    )  # we ensure the 2D span of the simulation in the yz plane captures everything\n",
    "\n",
    "    # now we create the 2D simulation, keeping the structures and updating the boundary conditions\n",
    "    sim_2d = sim.updated_copy(\n",
    "        center=sim_2d_center,\n",
    "        size=sim_2d_size,\n",
    "        sources=[],\n",
    "        monitors=[],\n",
    "        symmetry=(0, 0, 0),\n",
    "        boundary_spec=sim.boundary_spec.updated_copy(x=td.Boundary.periodic()),\n",
    "    )\n",
    "\n",
    "    # Now we solve for the mode at 'ref_point':\n",
    "    # We create the plane in xz that we'll use to examine the mode in z\n",
    "    mode_solver_plane = td.Box(center=sim_2d.center, size=(td.inf, 0, td.inf))\n",
    "    # Now we define the mode solver using this plane. We need only solve for one mode here, hence the ModeSpec\n",
    "    mode_solver = td.plugins.mode.ModeSolver(\n",
    "        simulation=sim_2d, plane=mode_solver_plane, mode_spec=td.ModeSpec(num_modes=1), freqs=[freq]\n",
    "    )\n",
    "\n",
    "    # Note that here the mode solving is done locally. For users desiring more accuracy, the remote mode\n",
    "    # solver should be used.\n",
    "    if remote:\n",
    "        mode_data_ref = run_mode_solver(mode_solver)\n",
    "    else:\n",
    "        mode_data_ref = mode_solver.solve()\n",
    "\n",
    "    # get n_eff from the solver\n",
    "    n_eff = mode_data_ref.n_eff.item()\n",
    "    if point == ref_point:\n",
    "        return n_eff**2  # if point is the reference point, the integral is 0\n",
    "\n",
    "    # get z permittivity profile at 'ref_point'\n",
    "    x, y = ref_point\n",
    "    eps_ref = sim.epsilon(\n",
    "        box=td.Box(center=(x, y, list(sim.center)[2]), size=(0, 0, td.inf)), freq=freq\n",
    "    )\n",
    "\n",
    "    # get z permittivity profile at 'point'\n",
    "    x, y = point\n",
    "    eps = sim.epsilon(\n",
    "        box=td.Box(center=(x, y, list(sim.center)[2]), size=(0, 0, td.inf)), freq=freq\n",
    "    )\n",
    "\n",
    "    eps_dif = np.squeeze(eps.values) - np.squeeze(eps_ref.values)\n",
    "\n",
    "    # get M at the same z coordinates as those of (eps - eps_ref) so we can integrate their product\n",
    "    z_coords = eps_ref.z.values\n",
    "    mode_profile = mode_data_ref.Ex\n",
    "    Mz2 = scipy.interpolate.interp1d(\n",
    "        x=mode_profile.z.values, y=np.abs(np.squeeze(mode_profile.values)) ** 2\n",
    "    )\n",
    "    m_values = Mz2(z_coords)\n",
    "\n",
    "    # calculate integrals\n",
    "    num, denom = np.trapz(y=eps_dif * m_values, x=z_coords), np.trapz(y=m_values, x=z_coords)\n",
    "\n",
    "    if n_eff**2 + num / denom < min_n:\n",
    "        return min_n\n",
    "    return n_eff**2 + num / denom"
   ]
  },
  {
   "cell_type": "markdown",
   "id": "d07a1d0d-c12d-4d77-ad49-57bf8dece598",
   "metadata": {},
   "source": [
    "Here we create a function that uses the above function to create the approximated materials used in the 2D simulation. It takes as input the 3D simulation, the mode reference point, the point describing the stack that the user would like to approximate, and the simulation spectrum."
   ]
  },
  {
   "cell_type": "code",
   "execution_count": 3,
   "id": "62a8bae0-9e07-40c7-a811-0f883f4a92ee",
   "metadata": {},
   "outputs": [],
   "source": [
    "def approximate_material(sim_3D, approx_point, ref_point, spectrum, min_n=1, plot=False):\n",
    "    eps = []\n",
    "    for wl in spectrum:  # at every [step]th wavelength, calculate the effective permittivity\n",
    "        eps.append(var_eps_eff(approx_point, ref_point, sim_3D, wavelength=wl, min_n=min_n))\n",
    "\n",
    "    # fit the materials with the FastDispersionFitter using the calculated effective permittivities\n",
    "    fitter = FastDispersionFitter(wvl_um=spectrum, n_data=np.sqrt(np.real(eps)))\n",
    "\n",
    "    # create the mediums using the material fit\n",
    "    medium, rms_error = fitter.fit()\n",
    "\n",
    "    if plot:\n",
    "        # plot the material fit\n",
    "        fig, ax = plt.subplots(1, 1, figsize=(3, 3))\n",
    "        fitter.plot(medium, ax=ax)\n",
    "        ax.set_title(\"Medium\")\n",
    "        plt.show()\n",
    "\n",
    "    return medium"
   ]
  },
  {
   "cell_type": "markdown",
   "id": "2361f1c4-6e45-4264-a41b-12c860d9d780",
   "metadata": {},
   "source": [
    "Here we create a function that, given a 3D simulation, creates a 2D copy with updated materials given by the user. This, like the previous function, is provided so Tidy3D users can easily 2D-ify their 3D simulations."
   ]
  },
  {
   "cell_type": "code",
   "execution_count": 4,
   "id": "6b336f14-d163-4958-b3a6-c2fe1fbbdda3",
   "metadata": {},
   "outputs": [],
   "source": [
    "def create_2D_sim(sim_3D, new_mediums):\n",
    "    # Redo the structures that were in our 3D simulation with our calculated material approximations\n",
    "    new_structures = []\n",
    "    for structure in sim_3D.structures:\n",
    "        new_structures.append(structure.updated_copy(medium=new_mediums[0]))\n",
    "\n",
    "    # Update the size to 3D\n",
    "    new_size = list(sim_3D.size)\n",
    "    new_size[2] = 0\n",
    "\n",
    "    # Update the symmetry to 2D\n",
    "    new_symmetry = list(sim_3D.symmetry)\n",
    "    if new_symmetry != [0, 0, 0]:\n",
    "        print(\n",
    "            \"Note: removed symmetry, as it is incompatible with the variational approximation method.\"\n",
    "        )\n",
    "    new_symmetry = (0, 0, 0)\n",
    "\n",
    "    # Create the 2D version of our 3D original\n",
    "    sim_2D = sim_3D.updated_copy(\n",
    "        size=new_size,\n",
    "        structures=new_structures,\n",
    "        boundary_spec=sim_3D.boundary_spec.updated_copy(z=td.Boundary.periodic()),\n",
    "        medium=new_mediums[1],\n",
    "        symmetry=new_symmetry,\n",
    "    )\n",
    "\n",
    "    return sim_2D"
   ]
  },
  {
   "cell_type": "markdown",
   "id": "997ad092-b76e-449b-87bc-1f04c337c519",
   "metadata": {},
   "source": [
    "Since the method that calculates the variational effective permittivity creates a 2D simulation from the given 3D simulation, generally there can be some objects (and symmetries) not included in the 2D simulation, which will throw some warnings. Furthermore, since we're using the local mode solver, Tidy3D will also print a warning that the remote mode solver should be used for greater accuracy. Since we're okay with this, it will be cleaner to suppress the warnings."
   ]
  },
  {
   "cell_type": "code",
   "execution_count": 5,
   "id": "edb4545a-7412-410d-9fb8-6bb48b100760",
   "metadata": {},
   "outputs": [],
   "source": [
    "# Suppress warnings for some of the structures not being included in the 2D simulation\n",
    "td.config.logging_level = \"ERROR\""
   ]
  },
  {
   "cell_type": "markdown",
   "id": "2f78574d-bbac-41f9-8a02-5bf8659b41f1",
   "metadata": {},
   "source": [
    "The above four code cells are all that is needed to use this approximation for a 3D simulation given by the user."
   ]
  },
  {
   "attachments": {},
   "cell_type": "markdown",
   "id": "3960e475-df77-4b54-b79a-cad5522323b8",
   "metadata": {},
   "source": [
    "## Example 1: 2D Planar Waveguide Bragg Grating\n",
    "To see this in action, we will apply this to a 2-dimensional waveguide Bragg grating described in the source paper.<br>\n",
    "\n",
    "First we quickly build the 2D simulation:"
   ]
  },
  {
   "cell_type": "code",
   "execution_count": 6,
   "id": "f2013ffa-27cb-48be-8c24-b35f6b9c277a",
   "metadata": {},
   "outputs": [
    {
     "data": {
      "image/png": "[encoded data removed]",
      "text/plain": [
       "<Figure size 640x480 with 2 Axes>"
      ]
     },
     "metadata": {},
     "output_type": "display_data"
    }
   ],
   "source": [
    "# Define wavelength/frequency ranges\n",
    "ldas = np.linspace(0.4, 0.9, 101)\n",
    "lda0 = ldas[50]\n",
    "freqs = td.C_0 / ldas\n",
    "freq0 = td.C_0 / lda0\n",
    "\n",
    "# Refractive indices\n",
    "n_c = 1\n",
    "n_f = 2\n",
    "n_s = 1.45\n",
    "\n",
    "# Materials used\n",
    "air = td.Medium(permittivity=n_c**2)\n",
    "top_medium = td.Medium(permittivity=n_f**2)\n",
    "bottom_medium = td.Medium(permittivity=n_s**2)\n",
    "\n",
    "# Define geometries and their structures\n",
    "hole_length = 0.11\n",
    "hole_depth = 0.6\n",
    "hole_spacing = 0.21\n",
    "top_thickness = 0.2\n",
    "\n",
    "inf = 10\n",
    "\n",
    "holes_list = []\n",
    "for h in range(6):\n",
    "    holes_list.append(\n",
    "        td.Box(\n",
    "            center=(hole_depth + h * hole_spacing, 0, 0), size=(hole_length, inf, 2 * hole_depth)\n",
    "        )\n",
    "    )\n",
    "holes_geos = td.GeometryGroup(geometries=holes_list)\n",
    "holes = td.Structure(geometry=holes_geos, medium=air)\n",
    "\n",
    "top_geo = td.Box.from_bounds(rmin=(-inf, -inf, -top_thickness), rmax=(inf, inf, 0))\n",
    "bottom_geo = td.Box.from_bounds(rmin=(-inf, -inf, -inf), rmax=(inf, inf, 0))\n",
    "\n",
    "top = td.Structure(geometry=top_geo, medium=top_medium)\n",
    "bottom = td.Structure(geometry=bottom_geo, medium=bottom_medium)\n",
    "\n",
    "# The injection used in the paper is a plane wave source\n",
    "source = td.PlaneWave(\n",
    "    center=(hole_depth * 0.1, 0, -top_thickness / 2),\n",
    "    size=(0, inf, top_thickness),\n",
    "    source_time=td.GaussianPulse(freq0=freq0, fwidth=freqs[0] - freqs[-1]),\n",
    "    direction=\"+\",\n",
    ")\n",
    "\n",
    "# Add monitors\n",
    "reflection = td.FluxMonitor(\n",
    "    center=(hole_depth * 0.05, 0, 0), size=(0, inf, inf), name=\"R\", freqs=freqs, normal_dir=\"-\"\n",
    ")\n",
    "transmission = td.FluxMonitor(\n",
    "    center=(hole_depth + 7 * hole_spacing, 0, 0), size=(0, inf, inf), name=\"T\", freqs=freqs\n",
    ")\n",
    "\n",
    "# Define the simulation of adequate size\n",
    "sim_size_x = hole_depth * 1.1 + 7 * hole_spacing\n",
    "sim_2d = td.Simulation(\n",
    "    center=(sim_size_x / 2, 0, -hole_depth / 3),\n",
    "    size=(sim_size_x, 0, 4 * hole_depth),\n",
    "    medium=air,\n",
    "    structures=[bottom, top, holes],\n",
    "    sources=[source],\n",
    "    monitors=[reflection, transmission],\n",
    "    boundary_spec=td.BoundarySpec(\n",
    "        x=td.Boundary.pml(), y=td.Boundary.periodic(), z=td.Boundary.pml()\n",
    "    ),\n",
    "    grid_spec=td.GridSpec.auto(wavelength=lda0, min_steps_per_wvl=30),\n",
    "    run_time=150 / freq0,\n",
    ")\n",
    "\n",
    "# Visualize the simulation to check\n",
    "sim_2d.plot_eps(y=0)\n",
    "plt.show()"
   ]
  },
  {
   "cell_type": "markdown",
   "id": "5b4f374c-d13a-41d0-a585-cda121bfc785",
   "metadata": {},
   "source": [
    "Next we calculate the variational effective indices at different steps in our input wavelengths. We will then fit a dispersive material to this data using Tidy3D's FastDispersionFitter.<br><br>\n",
    "To speed things up, we will reduce the number of times we need to solve for the mode, so we will downsample the wavelength points. Here we calculate the effective permittivity at every fifteenth wavelength."
   ]
  },
  {
   "cell_type": "code",
   "execution_count": 7,
   "id": "7971bed4-577f-4144-add6-2642c440de2f",
   "metadata": {},
   "outputs": [
    {
     "data": {
      "application/vnd.jupyter.widget-view+json": {
       "model_id": "3d550e5dec994cea9d5f0bf1d485a0f2",
       "version_major": 2,
       "version_minor": 0
      },
      "text/plain": [
       "Output()"
      ]
     },
     "metadata": {},
     "output_type": "display_data"
    },
    {
     "data": {
      "text/html": [
       "<pre style=\"white-space:pre;overflow-x:auto;line-height:normal;font-family:Menlo,'DejaVu Sans Mono',consolas,'Courier New',monospace\"></pre>\n"
      ],
      "text/plain": []
     },
     "metadata": {},
     "output_type": "display_data"
    },
    {
     "data": {
      "text/html": [
       "<pre style=\"white-space:pre;overflow-x:auto;line-height:normal;font-family:Menlo,'DejaVu Sans Mono',consolas,'Courier New',monospace\">\n",
       "</pre>\n"
      ],
      "text/plain": [
       "\n"
      ]
     },
     "metadata": {},
     "output_type": "display_data"
    },
    {
     "data": {
      "image/png": "[encoded data removed]",
      "text/plain": [
       "<Figure size 300x300 with 1 Axes>"
      ]
     },
     "metadata": {},
     "output_type": "display_data"
    }
   ],
   "source": [
    "# Downsample wavelengths to speed up the calculation\n",
    "spectrum = ldas[::15]\n",
    "waveguide_mat = approximate_material(sim_2d, (0.25, 0), (0.25, 0), spectrum, plot=True)"
   ]
  },
  {
   "cell_type": "code",
   "execution_count": 8,
   "id": "5a059418-86f2-448c-bb4e-1cde25bb759f",
   "metadata": {},
   "outputs": [
    {
     "data": {
      "application/vnd.jupyter.widget-view+json": {
       "model_id": "f8fadeceda4f4119a7a5b67b8af3e8da",
       "version_major": 2,
       "version_minor": 0
      },
      "text/plain": [
       "Output()"
      ]
     },
     "metadata": {},
     "output_type": "display_data"
    },
    {
     "data": {
      "text/html": [
       "<pre style=\"white-space:pre;overflow-x:auto;line-height:normal;font-family:Menlo,'DejaVu Sans Mono',consolas,'Courier New',monospace\"></pre>\n"
      ],
      "text/plain": []
     },
     "metadata": {},
     "output_type": "display_data"
    },
    {
     "data": {
      "text/html": [
       "<pre style=\"white-space:pre;overflow-x:auto;line-height:normal;font-family:Menlo,'DejaVu Sans Mono',consolas,'Courier New',monospace\">\n",
       "</pre>\n"
      ],
      "text/plain": [
       "\n"
      ]
     },
     "metadata": {},
     "output_type": "display_data"
    }
   ],
   "source": [
    "hole_mat = approximate_material(sim_2d, (1, 0), (0.25, 0), spectrum)"
   ]
  },
  {
   "cell_type": "markdown",
   "id": "357cc006-a7f4-44a7-a878-5d48ef8a5786",
   "metadata": {},
   "source": [
    "We now create the 1D simulation with the calculated mediums:"
   ]
  },
  {
   "cell_type": "code",
   "execution_count": 9,
   "id": "a9478257-8f54-46b6-aef4-3d576be956eb",
   "metadata": {},
   "outputs": [],
   "source": [
    "# Redo the structures that were in our 2D simulation with our calculated material approximations\n",
    "holes_list_1D = []\n",
    "for h in range(6):\n",
    "    holes_list_1D.append(\n",
    "        td.Box(center=(hole_depth + h * hole_spacing, 0, 0), size=(hole_length, inf, inf))\n",
    "    )\n",
    "holes_geos_1D = td.GeometryGroup(geometries=holes_list_1D)\n",
    "holes_1D = td.Structure(geometry=holes_geos_1D, medium=hole_mat)\n",
    "\n",
    "# Update the size to 1D\n",
    "new_size = list(sim_2d.size)\n",
    "new_size[2] = 0\n",
    "\n",
    "# Update the plane wave source for 1D\n",
    "source_1d = td.PlaneWave(\n",
    "    center=sim_2d.sources[0].center,\n",
    "    size=sim_2d.sources[0].size,\n",
    "    source_time=sim_2d.sources[0].source_time,\n",
    "    direction=sim_2d.sources[0].direction,\n",
    ")\n",
    "\n",
    "# Create the 1D version of our 2D original\n",
    "sim_1d = sim_2d.updated_copy(\n",
    "    size=new_size,\n",
    "    structures=[holes_1D],\n",
    "    sources=[source_1d],\n",
    "    boundary_spec=sim_2d.boundary_spec.updated_copy(z=td.Boundary.periodic()),\n",
    "    medium=waveguide_mat,\n",
    ")"
   ]
  },
  {
   "cell_type": "markdown",
   "id": "11e85207-1488-48f3-8d2e-fc6049e17865",
   "metadata": {},
   "source": [
    "Finally, we run both simulations."
   ]
  },
  {
   "cell_type": "code",
   "execution_count": 10,
   "id": "fb80a1cd-8013-438f-9581-3617db296df0",
   "metadata": {},
   "outputs": [
    {
     "data": {
      "text/html": [
       "<pre style=\"white-space:pre;overflow-x:auto;line-height:normal;font-family:Menlo,'DejaVu Sans Mono',consolas,'Courier New',monospace\"><span style=\"color: #7fbfbf; text-decoration-color: #7fbfbf\">13:30:09 EST </span>Created task <span style=\"color: #008000; text-decoration-color: #008000\">'var eps'</span> with task_id                                \n",
       "<span style=\"color: #7fbfbf; text-decoration-color: #7fbfbf\">             </span><span style=\"color: #008000; text-decoration-color: #008000\">'fdve-329f73f4-e53d-4f75-ace2-c6c16f717e99'</span> and task_type <span style=\"color: #008000; text-decoration-color: #008000\">'FDTD'</span>.  \n",
       "</pre>\n"
      ],
      "text/plain": [
       "\u001b[2;36m13:30:09 EST\u001b[0m\u001b[2;36m \u001b[0mCreated task \u001b[32m'var eps'\u001b[0m with task_id                                \n",
       "\u001b[2;36m             \u001b[0m\u001b[32m'fdve-329f73f4-e53d-4f75-ace2-c6c16f717e99'\u001b[0m and task_type \u001b[32m'FDTD'\u001b[0m.  \n"
      ]
     },
     "metadata": {},
     "output_type": "display_data"
    },
    {
     "data": {
      "text/html": [
       "<pre style=\"white-space:pre;overflow-x:auto;line-height:normal;font-family:Menlo,'DejaVu Sans Mono',consolas,'Courier New',monospace\"><span style=\"color: #7fbfbf; text-decoration-color: #7fbfbf\">             </span>View task using web UI at                                          \n",
       "<span style=\"color: #7fbfbf; text-decoration-color: #7fbfbf\">             </span><a href=\"https://tidy3d.simulation.cloud/workbench?taskId=fdve-329f73f4-e53d-4f75-ace2-c6c16f717e99\" target=\"_blank\"><span style=\"color: #008000; text-decoration-color: #008000\">'https://tidy3d.simulation.cloud/workbench?taskId=fdve-329f73f4-e53</span></a>\n",
       "<span style=\"color: #7fbfbf; text-decoration-color: #7fbfbf\">             </span><a href=\"https://tidy3d.simulation.cloud/workbench?taskId=fdve-329f73f4-e53d-4f75-ace2-c6c16f717e99\" target=\"_blank\"><span style=\"color: #008000; text-decoration-color: #008000\">d-4f75-ace2-c6c16f717e99'</span></a>.                                         \n",
       "</pre>\n"
      ],
      "text/plain": [
       "\u001b[2;36m            \u001b[0m\u001b[2;36m \u001b[0mView task using web UI at                                          \n",
       "\u001b[2;36m             \u001b[0m\u001b]8;id=361464;https://tidy3d.simulation.cloud/workbench?taskId=fdve-329f73f4-e53d-4f75-ace2-c6c16f717e99\u001b\\\u001b[32m'https://tidy3d.simulation.cloud/workbench?\u001b[0m\u001b]8;;\u001b\\\u001b]8;id=633718;https://tidy3d.simulation.cloud/workbench?taskId=fdve-329f73f4-e53d-4f75-ace2-c6c16f717e99\u001b\\\u001b[32mtaskId\u001b[0m\u001b]8;;\u001b\\\u001b]8;id=361464;https://tidy3d.simulation.cloud/workbench?taskId=fdve-329f73f4-e53d-4f75-ace2-c6c16f717e99\u001b\\\u001b[32m=\u001b[0m\u001b]8;;\u001b\\\u001b]8;id=509360;https://tidy3d.simulation.cloud/workbench?taskId=fdve-329f73f4-e53d-4f75-ace2-c6c16f717e99\u001b\\\u001b[32mfdve\u001b[0m\u001b]8;;\u001b\\\u001b]8;id=361464;https://tidy3d.simulation.cloud/workbench?taskId=fdve-329f73f4-e53d-4f75-ace2-c6c16f717e99\u001b\\\u001b[32m-329f73f4-e53\u001b[0m\u001b]8;;\u001b\\\n",
       "\u001b[2;36m             \u001b[0m\u001b]8;id=361464;https://tidy3d.simulation.cloud/workbench?taskId=fdve-329f73f4-e53d-4f75-ace2-c6c16f717e99\u001b\\\u001b[32md-4f75-ace2-c6c16f717e99'\u001b[0m\u001b]8;;\u001b\\.                                         \n"
      ]
     },
     "metadata": {},
     "output_type": "display_data"
    },
    {
     "data": {
      "application/vnd.jupyter.widget-view+json": {
       "model_id": "03235d9d2b5b43ac9449cc7f5596fe66",
       "version_major": 2,
       "version_minor": 0
      },
      "text/plain": [
       "Output()"
      ]
     },
     "metadata": {},
     "output_type": "display_data"
    },
    {
     "data": {
      "text/html": [
       "<pre style=\"white-space:pre;overflow-x:auto;line-height:normal;font-family:Menlo,'DejaVu Sans Mono',consolas,'Courier New',monospace\"></pre>\n"
      ],
      "text/plain": []
     },
     "metadata": {},
     "output_type": "display_data"
    },
    {
     "data": {
      "text/html": [
       "<pre style=\"white-space:pre;overflow-x:auto;line-height:normal;font-family:Menlo,'DejaVu Sans Mono',consolas,'Courier New',monospace\">\n",
       "</pre>\n"
      ],
      "text/plain": [
       "\n"
      ]
     },
     "metadata": {},
     "output_type": "display_data"
    },
    {
     "data": {
      "text/html": [
       "<pre style=\"white-space:pre;overflow-x:auto;line-height:normal;font-family:Menlo,'DejaVu Sans Mono',consolas,'Courier New',monospace\"><span style=\"color: #7fbfbf; text-decoration-color: #7fbfbf\">13:30:10 EST </span>status = queued                                                    \n",
       "</pre>\n"
      ],
      "text/plain": [
       "\u001b[2;36m13:30:10 EST\u001b[0m\u001b[2;36m \u001b[0mstatus = queued                                                    \n"
      ]
     },
     "metadata": {},
     "output_type": "display_data"
    },
    {
     "data": {
      "text/html": [
       "<pre style=\"white-space:pre;overflow-x:auto;line-height:normal;font-family:Menlo,'DejaVu Sans Mono',consolas,'Courier New',monospace\"><span style=\"color: #7fbfbf; text-decoration-color: #7fbfbf\">             </span>To cancel the simulation, use <span style=\"color: #008000; text-decoration-color: #008000\">'web.abort(task_id)'</span> or              \n",
       "<span style=\"color: #7fbfbf; text-decoration-color: #7fbfbf\">             </span><span style=\"color: #008000; text-decoration-color: #008000\">'web.delete(task_id)'</span> or abort/delete the task in the web UI.      \n",
       "<span style=\"color: #7fbfbf; text-decoration-color: #7fbfbf\">             </span>Terminating the Python script will not stop the job running on the \n",
       "<span style=\"color: #7fbfbf; text-decoration-color: #7fbfbf\">             </span>cloud.                                                             \n",
       "</pre>\n"
      ],
      "text/plain": [
       "\u001b[2;36m            \u001b[0m\u001b[2;36m \u001b[0mTo cancel the simulation, use \u001b[32m'web.abort\u001b[0m\u001b[32m(\u001b[0m\u001b[32mtask_id\u001b[0m\u001b[32m)\u001b[0m\u001b[32m'\u001b[0m or              \n",
       "\u001b[2;36m             \u001b[0m\u001b[32m'web.delete\u001b[0m\u001b[32m(\u001b[0m\u001b[32mtask_id\u001b[0m\u001b[32m)\u001b[0m\u001b[32m'\u001b[0m or abort/delete the task in the web UI.      \n",
       "\u001b[2;36m             \u001b[0mTerminating the Python script will not stop the job running on the \n",
       "\u001b[2;36m             \u001b[0mcloud.                                                             \n"
      ]
     },
     "metadata": {},
     "output_type": "display_data"
    },
    {
     "data": {
      "application/vnd.jupyter.widget-view+json": {
       "model_id": "",
       "version_major": 2,
       "version_minor": 0
      },
      "text/plain": [
       "Output()"
      ]
     },
     "metadata": {},
     "output_type": "display_data"
    },
    {
     "data": {
      "text/html": [
       "<pre style=\"white-space:pre;overflow-x:auto;line-height:normal;font-family:Menlo,'DejaVu Sans Mono',consolas,'Courier New',monospace\"><span style=\"color: #7fbfbf; text-decoration-color: #7fbfbf\">13:30:15 EST </span>status = preprocess                                                \n",
       "</pre>\n"
      ],
      "text/plain": [
       "\u001b[2;36m13:30:15 EST\u001b[0m\u001b[2;36m \u001b[0mstatus = preprocess                                                \n"
      ]
     },
     "metadata": {},
     "output_type": "display_data"
    },
    {
     "data": {
      "text/html": [
       "<pre style=\"white-space:pre;overflow-x:auto;line-height:normal;font-family:Menlo,'DejaVu Sans Mono',consolas,'Courier New',monospace\"></pre>\n"
      ],
      "text/plain": []
     },
     "metadata": {},
     "output_type": "display_data"
    },
    {
     "data": {
      "text/html": [
       "<pre style=\"white-space:pre;overflow-x:auto;line-height:normal;font-family:Menlo,'DejaVu Sans Mono',consolas,'Courier New',monospace\"><span style=\"color: #7fbfbf; text-decoration-color: #7fbfbf\">13:30:18 EST </span>Maximum FlexCredit cost: <span style=\"color: #008080; text-decoration-color: #008080; font-weight: bold\">0.025</span>. Use <span style=\"color: #008000; text-decoration-color: #008000\">'web.real_cost(task_id)'</span> to get\n",
       "<span style=\"color: #7fbfbf; text-decoration-color: #7fbfbf\">             </span>the billed FlexCredit cost after a simulation run.                 \n",
       "</pre>\n"
      ],
      "text/plain": [
       "\u001b[2;36m13:30:18 EST\u001b[0m\u001b[2;36m \u001b[0mMaximum FlexCredit cost: \u001b[1;36m0.025\u001b[0m. Use \u001b[32m'web.real_cost\u001b[0m\u001b[32m(\u001b[0m\u001b[32mtask_id\u001b[0m\u001b[32m)\u001b[0m\u001b[32m'\u001b[0m to get\n",
       "\u001b[2;36m             \u001b[0mthe billed FlexCredit cost after a simulation run.                 \n"
      ]
     },
     "metadata": {},
     "output_type": "display_data"
    },
    {
     "data": {
      "text/html": [
       "<pre style=\"white-space:pre;overflow-x:auto;line-height:normal;font-family:Menlo,'DejaVu Sans Mono',consolas,'Courier New',monospace\"><span style=\"color: #7fbfbf; text-decoration-color: #7fbfbf\">             </span>starting up solver                                                 \n",
       "</pre>\n"
      ],
      "text/plain": [
       "\u001b[2;36m            \u001b[0m\u001b[2;36m \u001b[0mstarting up solver                                                 \n"
      ]
     },
     "metadata": {},
     "output_type": "display_data"
    },
    {
     "data": {
      "text/html": [
       "<pre style=\"white-space:pre;overflow-x:auto;line-height:normal;font-family:Menlo,'DejaVu Sans Mono',consolas,'Courier New',monospace\"><span style=\"color: #7fbfbf; text-decoration-color: #7fbfbf\">             </span>running solver                                                     \n",
       "</pre>\n"
      ],
      "text/plain": [
       "\u001b[2;36m            \u001b[0m\u001b[2;36m \u001b[0mrunning solver                                                     \n"
      ]
     },
     "metadata": {},
     "output_type": "display_data"
    },
    {
     "data": {
      "application/vnd.jupyter.widget-view+json": {
       "model_id": "deb25da4870f425a963bcaecd29bbc68",
       "version_major": 2,
       "version_minor": 0
      },
      "text/plain": [
       "Output()"
      ]
     },
     "metadata": {},
     "output_type": "display_data"
    },
    {
     "data": {
      "text/html": [
       "<pre style=\"white-space:pre;overflow-x:auto;line-height:normal;font-family:Menlo,'DejaVu Sans Mono',consolas,'Courier New',monospace\"><span style=\"color: #7fbfbf; text-decoration-color: #7fbfbf\">13:30:23 EST </span>early shutoff detected at <span style=\"color: #008080; text-decoration-color: #008080; font-weight: bold\">32</span>%, exiting.                            \n",
       "</pre>\n"
      ],
      "text/plain": [
       "\u001b[2;36m13:30:23 EST\u001b[0m\u001b[2;36m \u001b[0mearly shutoff detected at \u001b[1;36m32\u001b[0m%, exiting.                            \n"
      ]
     },
     "metadata": {},
     "output_type": "display_data"
    },
    {
     "data": {
      "text/html": [
       "<pre style=\"white-space:pre;overflow-x:auto;line-height:normal;font-family:Menlo,'DejaVu Sans Mono',consolas,'Courier New',monospace\"></pre>\n"
      ],
      "text/plain": []
     },
     "metadata": {},
     "output_type": "display_data"
    },
    {
     "data": {
      "text/html": [
       "<pre style=\"white-space:pre;overflow-x:auto;line-height:normal;font-family:Menlo,'DejaVu Sans Mono',consolas,'Courier New',monospace\">\n",
       "</pre>\n"
      ],
      "text/plain": [
       "\n"
      ]
     },
     "metadata": {},
     "output_type": "display_data"
    },
    {
     "data": {
      "text/html": [
       "<pre style=\"white-space:pre;overflow-x:auto;line-height:normal;font-family:Menlo,'DejaVu Sans Mono',consolas,'Courier New',monospace\"><span style=\"color: #7fbfbf; text-decoration-color: #7fbfbf\">             </span>status = success                                                   \n",
       "</pre>\n"
      ],
      "text/plain": [
       "\u001b[2;36m            \u001b[0m\u001b[2;36m \u001b[0mstatus = success                                                   \n"
      ]
     },
     "metadata": {},
     "output_type": "display_data"
    },
    {
     "data": {
      "text/html": [
       "<pre style=\"white-space:pre;overflow-x:auto;line-height:normal;font-family:Menlo,'DejaVu Sans Mono',consolas,'Courier New',monospace\"></pre>\n"
      ],
      "text/plain": []
     },
     "metadata": {},
     "output_type": "display_data"
    },
    {
     "data": {
      "text/html": [
       "<pre style=\"white-space:pre;overflow-x:auto;line-height:normal;font-family:Menlo,'DejaVu Sans Mono',consolas,'Courier New',monospace\"><span style=\"color: #7fbfbf; text-decoration-color: #7fbfbf\">             </span>View simulation result at                                          \n",
       "<span style=\"color: #7fbfbf; text-decoration-color: #7fbfbf\">             </span><a href=\"https://tidy3d.simulation.cloud/workbench?taskId=fdve-329f73f4-e53d-4f75-ace2-c6c16f717e99\" target=\"_blank\"><span style=\"color: #000080; text-decoration-color: #000080; text-decoration: underline\">'https://tidy3d.simulation.cloud/workbench?taskId=fdve-329f73f4-e53</span></a>\n",
       "<span style=\"color: #7fbfbf; text-decoration-color: #7fbfbf\">             </span><a href=\"https://tidy3d.simulation.cloud/workbench?taskId=fdve-329f73f4-e53d-4f75-ace2-c6c16f717e99\" target=\"_blank\"><span style=\"color: #000080; text-decoration-color: #000080; text-decoration: underline\">d-4f75-ace2-c6c16f717e99'</span></a><span style=\"color: #000080; text-decoration-color: #000080; text-decoration: underline\">.</span>                                         \n",
       "</pre>\n"
      ],
      "text/plain": [
       "\u001b[2;36m            \u001b[0m\u001b[2;36m \u001b[0mView simulation result at                                          \n",
       "\u001b[2;36m             \u001b[0m\u001b]8;id=654369;https://tidy3d.simulation.cloud/workbench?taskId=fdve-329f73f4-e53d-4f75-ace2-c6c16f717e99\u001b\\\u001b[4;34m'https://tidy3d.simulation.cloud/workbench?\u001b[0m\u001b]8;;\u001b\\\u001b]8;id=151246;https://tidy3d.simulation.cloud/workbench?taskId=fdve-329f73f4-e53d-4f75-ace2-c6c16f717e99\u001b\\\u001b[4;34mtaskId\u001b[0m\u001b]8;;\u001b\\\u001b]8;id=654369;https://tidy3d.simulation.cloud/workbench?taskId=fdve-329f73f4-e53d-4f75-ace2-c6c16f717e99\u001b\\\u001b[4;34m=\u001b[0m\u001b]8;;\u001b\\\u001b]8;id=274211;https://tidy3d.simulation.cloud/workbench?taskId=fdve-329f73f4-e53d-4f75-ace2-c6c16f717e99\u001b\\\u001b[4;34mfdve\u001b[0m\u001b]8;;\u001b\\\u001b]8;id=654369;https://tidy3d.simulation.cloud/workbench?taskId=fdve-329f73f4-e53d-4f75-ace2-c6c16f717e99\u001b\\\u001b[4;34m-329f73f4-e53\u001b[0m\u001b]8;;\u001b\\\n",
       "\u001b[2;36m             \u001b[0m\u001b]8;id=654369;https://tidy3d.simulation.cloud/workbench?taskId=fdve-329f73f4-e53d-4f75-ace2-c6c16f717e99\u001b\\\u001b[4;34md-4f75-ace2-c6c16f717e99'\u001b[0m\u001b]8;;\u001b\\\u001b[4;34m.\u001b[0m                                         \n"
      ]
     },
     "metadata": {},
     "output_type": "display_data"
    },
    {
     "data": {
      "application/vnd.jupyter.widget-view+json": {
       "model_id": "48e7dde3558e4bec89df74abc5dd9e25",
       "version_major": 2,
       "version_minor": 0
      },
      "text/plain": [
       "Output()"
      ]
     },
     "metadata": {},
     "output_type": "display_data"
    },
    {
     "data": {
      "text/html": [
       "<pre style=\"white-space:pre;overflow-x:auto;line-height:normal;font-family:Menlo,'DejaVu Sans Mono',consolas,'Courier New',monospace\"></pre>\n"
      ],
      "text/plain": []
     },
     "metadata": {},
     "output_type": "display_data"
    },
    {
     "data": {
      "text/html": [
       "<pre style=\"white-space:pre;overflow-x:auto;line-height:normal;font-family:Menlo,'DejaVu Sans Mono',consolas,'Courier New',monospace\">\n",
       "</pre>\n"
      ],
      "text/plain": [
       "\n"
      ]
     },
     "metadata": {},
     "output_type": "display_data"
    },
    {
     "data": {
      "text/html": [
       "<pre style=\"white-space:pre;overflow-x:auto;line-height:normal;font-family:Menlo,'DejaVu Sans Mono',consolas,'Courier New',monospace\"><span style=\"color: #7fbfbf; text-decoration-color: #7fbfbf\">             </span>loading simulation from simulation_data.hdf5                       \n",
       "</pre>\n"
      ],
      "text/plain": [
       "\u001b[2;36m            \u001b[0m\u001b[2;36m \u001b[0mloading simulation from simulation_data.hdf5                       \n"
      ]
     },
     "metadata": {},
     "output_type": "display_data"
    },
    {
     "data": {
      "text/html": [
       "<pre style=\"white-space:pre;overflow-x:auto;line-height:normal;font-family:Menlo,'DejaVu Sans Mono',consolas,'Courier New',monospace\"><span style=\"color: #7fbfbf; text-decoration-color: #7fbfbf\">13:30:24 EST </span>Created task <span style=\"color: #008000; text-decoration-color: #008000\">'var eps'</span> with task_id                                \n",
       "<span style=\"color: #7fbfbf; text-decoration-color: #7fbfbf\">             </span><span style=\"color: #008000; text-decoration-color: #008000\">'fdve-a22f27be-15ef-47df-9295-9517dd74ed5d'</span> and task_type <span style=\"color: #008000; text-decoration-color: #008000\">'FDTD'</span>.  \n",
       "</pre>\n"
      ],
      "text/plain": [
       "\u001b[2;36m13:30:24 EST\u001b[0m\u001b[2;36m \u001b[0mCreated task \u001b[32m'var eps'\u001b[0m with task_id                                \n",
       "\u001b[2;36m             \u001b[0m\u001b[32m'fdve-a22f27be-15ef-47df-9295-9517dd74ed5d'\u001b[0m and task_type \u001b[32m'FDTD'\u001b[0m.  \n"
      ]
     },
     "metadata": {},
     "output_type": "display_data"
    },
    {
     "data": {
      "text/html": [
       "<pre style=\"white-space:pre;overflow-x:auto;line-height:normal;font-family:Menlo,'DejaVu Sans Mono',consolas,'Courier New',monospace\"><span style=\"color: #7fbfbf; text-decoration-color: #7fbfbf\">             </span>View task using web UI at                                          \n",
       "<span style=\"color: #7fbfbf; text-decoration-color: #7fbfbf\">             </span><a href=\"https://tidy3d.simulation.cloud/workbench?taskId=fdve-a22f27be-15ef-47df-9295-9517dd74ed5d\" target=\"_blank\"><span style=\"color: #008000; text-decoration-color: #008000\">'https://tidy3d.simulation.cloud/workbench?taskId=fdve-a22f27be-15e</span></a>\n",
       "<span style=\"color: #7fbfbf; text-decoration-color: #7fbfbf\">             </span><a href=\"https://tidy3d.simulation.cloud/workbench?taskId=fdve-a22f27be-15ef-47df-9295-9517dd74ed5d\" target=\"_blank\"><span style=\"color: #008000; text-decoration-color: #008000\">f-47df-9295-9517dd74ed5d'</span></a>.                                         \n",
       "</pre>\n"
      ],
      "text/plain": [
       "\u001b[2;36m            \u001b[0m\u001b[2;36m \u001b[0mView task using web UI at                                          \n",
       "\u001b[2;36m             \u001b[0m\u001b]8;id=952247;https://tidy3d.simulation.cloud/workbench?taskId=fdve-a22f27be-15ef-47df-9295-9517dd74ed5d\u001b\\\u001b[32m'https://tidy3d.simulation.cloud/workbench?\u001b[0m\u001b]8;;\u001b\\\u001b]8;id=483630;https://tidy3d.simulation.cloud/workbench?taskId=fdve-a22f27be-15ef-47df-9295-9517dd74ed5d\u001b\\\u001b[32mtaskId\u001b[0m\u001b]8;;\u001b\\\u001b]8;id=952247;https://tidy3d.simulation.cloud/workbench?taskId=fdve-a22f27be-15ef-47df-9295-9517dd74ed5d\u001b\\\u001b[32m=\u001b[0m\u001b]8;;\u001b\\\u001b]8;id=261785;https://tidy3d.simulation.cloud/workbench?taskId=fdve-a22f27be-15ef-47df-9295-9517dd74ed5d\u001b\\\u001b[32mfdve\u001b[0m\u001b]8;;\u001b\\\u001b]8;id=952247;https://tidy3d.simulation.cloud/workbench?taskId=fdve-a22f27be-15ef-47df-9295-9517dd74ed5d\u001b\\\u001b[32m-a22f27be-15e\u001b[0m\u001b]8;;\u001b\\\n",
       "\u001b[2;36m             \u001b[0m\u001b]8;id=952247;https://tidy3d.simulation.cloud/workbench?taskId=fdve-a22f27be-15ef-47df-9295-9517dd74ed5d\u001b\\\u001b[32mf-47df-9295-9517dd74ed5d'\u001b[0m\u001b]8;;\u001b\\.                                         \n"
      ]
     },
     "metadata": {},
     "output_type": "display_data"
    },
    {
     "data": {
      "application/vnd.jupyter.widget-view+json": {
       "model_id": "363393fac36e4f7a958c3ba15a6e5694",
       "version_major": 2,
       "version_minor": 0
      },
      "text/plain": [
       "Output()"
      ]
     },
     "metadata": {},
     "output_type": "display_data"
    },
    {
     "data": {
      "text/html": [
       "<pre style=\"white-space:pre;overflow-x:auto;line-height:normal;font-family:Menlo,'DejaVu Sans Mono',consolas,'Courier New',monospace\"></pre>\n"
      ],
      "text/plain": []
     },
     "metadata": {},
     "output_type": "display_data"
    },
    {
     "data": {
      "text/html": [
       "<pre style=\"white-space:pre;overflow-x:auto;line-height:normal;font-family:Menlo,'DejaVu Sans Mono',consolas,'Courier New',monospace\">\n",
       "</pre>\n"
      ],
      "text/plain": [
       "\n"
      ]
     },
     "metadata": {},
     "output_type": "display_data"
    },
    {
     "data": {
      "text/html": [
       "<pre style=\"white-space:pre;overflow-x:auto;line-height:normal;font-family:Menlo,'DejaVu Sans Mono',consolas,'Courier New',monospace\"><span style=\"color: #7fbfbf; text-decoration-color: #7fbfbf\">13:30:25 EST </span>status = queued                                                    \n",
       "</pre>\n"
      ],
      "text/plain": [
       "\u001b[2;36m13:30:25 EST\u001b[0m\u001b[2;36m \u001b[0mstatus = queued                                                    \n"
      ]
     },
     "metadata": {},
     "output_type": "display_data"
    },
    {
     "data": {
      "text/html": [
       "<pre style=\"white-space:pre;overflow-x:auto;line-height:normal;font-family:Menlo,'DejaVu Sans Mono',consolas,'Courier New',monospace\"><span style=\"color: #7fbfbf; text-decoration-color: #7fbfbf\">             </span>To cancel the simulation, use <span style=\"color: #008000; text-decoration-color: #008000\">'web.abort(task_id)'</span> or              \n",
       "<span style=\"color: #7fbfbf; text-decoration-color: #7fbfbf\">             </span><span style=\"color: #008000; text-decoration-color: #008000\">'web.delete(task_id)'</span> or abort/delete the task in the web UI.      \n",
       "<span style=\"color: #7fbfbf; text-decoration-color: #7fbfbf\">             </span>Terminating the Python script will not stop the job running on the \n",
       "<span style=\"color: #7fbfbf; text-decoration-color: #7fbfbf\">             </span>cloud.                                                             \n",
       "</pre>\n"
      ],
      "text/plain": [
       "\u001b[2;36m            \u001b[0m\u001b[2;36m \u001b[0mTo cancel the simulation, use \u001b[32m'web.abort\u001b[0m\u001b[32m(\u001b[0m\u001b[32mtask_id\u001b[0m\u001b[32m)\u001b[0m\u001b[32m'\u001b[0m or              \n",
       "\u001b[2;36m             \u001b[0m\u001b[32m'web.delete\u001b[0m\u001b[32m(\u001b[0m\u001b[32mtask_id\u001b[0m\u001b[32m)\u001b[0m\u001b[32m'\u001b[0m or abort/delete the task in the web UI.      \n",
       "\u001b[2;36m             \u001b[0mTerminating the Python script will not stop the job running on the \n",
       "\u001b[2;36m             \u001b[0mcloud.                                                             \n"
      ]
     },
     "metadata": {},
     "output_type": "display_data"
    },
    {
     "data": {
      "application/vnd.jupyter.widget-view+json": {
       "model_id": "",
       "version_major": 2,
       "version_minor": 0
      },
      "text/plain": [
       "Output()"
      ]
     },
     "metadata": {},
     "output_type": "display_data"
    },
    {
     "data": {
      "text/html": [
       "<pre style=\"white-space:pre;overflow-x:auto;line-height:normal;font-family:Menlo,'DejaVu Sans Mono',consolas,'Courier New',monospace\"><span style=\"color: #7fbfbf; text-decoration-color: #7fbfbf\">13:30:37 EST </span>status = preprocess                                                \n",
       "</pre>\n"
      ],
      "text/plain": [
       "\u001b[2;36m13:30:37 EST\u001b[0m\u001b[2;36m \u001b[0mstatus = preprocess                                                \n"
      ]
     },
     "metadata": {},
     "output_type": "display_data"
    },
    {
     "data": {
      "text/html": [
       "<pre style=\"white-space:pre;overflow-x:auto;line-height:normal;font-family:Menlo,'DejaVu Sans Mono',consolas,'Courier New',monospace\"></pre>\n"
      ],
      "text/plain": []
     },
     "metadata": {},
     "output_type": "display_data"
    },
    {
     "data": {
      "text/html": [
       "<pre style=\"white-space:pre;overflow-x:auto;line-height:normal;font-family:Menlo,'DejaVu Sans Mono',consolas,'Courier New',monospace\"><span style=\"color: #7fbfbf; text-decoration-color: #7fbfbf\">13:30:38 EST </span>Maximum FlexCredit cost: <span style=\"color: #008080; text-decoration-color: #008080; font-weight: bold\">0.025</span>. Use <span style=\"color: #008000; text-decoration-color: #008000\">'web.real_cost(task_id)'</span> to get\n",
       "<span style=\"color: #7fbfbf; text-decoration-color: #7fbfbf\">             </span>the billed FlexCredit cost after a simulation run.                 \n",
       "</pre>\n"
      ],
      "text/plain": [
       "\u001b[2;36m13:30:38 EST\u001b[0m\u001b[2;36m \u001b[0mMaximum FlexCredit cost: \u001b[1;36m0.025\u001b[0m. Use \u001b[32m'web.real_cost\u001b[0m\u001b[32m(\u001b[0m\u001b[32mtask_id\u001b[0m\u001b[32m)\u001b[0m\u001b[32m'\u001b[0m to get\n",
       "\u001b[2;36m             \u001b[0mthe billed FlexCredit cost after a simulation run.                 \n"
      ]
     },
     "metadata": {},
     "output_type": "display_data"
    },
    {
     "data": {
      "text/html": [
       "<pre style=\"white-space:pre;overflow-x:auto;line-height:normal;font-family:Menlo,'DejaVu Sans Mono',consolas,'Courier New',monospace\"><span style=\"color: #7fbfbf; text-decoration-color: #7fbfbf\">             </span>starting up solver                                                 \n",
       "</pre>\n"
      ],
      "text/plain": [
       "\u001b[2;36m            \u001b[0m\u001b[2;36m \u001b[0mstarting up solver                                                 \n"
      ]
     },
     "metadata": {},
     "output_type": "display_data"
    },
    {
     "data": {
      "text/html": [
       "<pre style=\"white-space:pre;overflow-x:auto;line-height:normal;font-family:Menlo,'DejaVu Sans Mono',consolas,'Courier New',monospace\"><span style=\"color: #7fbfbf; text-decoration-color: #7fbfbf\">             </span>running solver                                                     \n",
       "</pre>\n"
      ],
      "text/plain": [
       "\u001b[2;36m            \u001b[0m\u001b[2;36m \u001b[0mrunning solver                                                     \n"
      ]
     },
     "metadata": {},
     "output_type": "display_data"
    },
    {
     "data": {
      "application/vnd.jupyter.widget-view+json": {
       "model_id": "0d3dd6b319284ac8acc310f87db22870",
       "version_major": 2,
       "version_minor": 0
      },
      "text/plain": [
       "Output()"
      ]
     },
     "metadata": {},
     "output_type": "display_data"
    },
    {
     "data": {
      "text/html": [
       "<pre style=\"white-space:pre;overflow-x:auto;line-height:normal;font-family:Menlo,'DejaVu Sans Mono',consolas,'Courier New',monospace\"><span style=\"color: #7fbfbf; text-decoration-color: #7fbfbf\">13:30:42 EST </span>early shutoff detected at <span style=\"color: #008080; text-decoration-color: #008080; font-weight: bold\">40</span>%, exiting.                            \n",
       "</pre>\n"
      ],
      "text/plain": [
       "\u001b[2;36m13:30:42 EST\u001b[0m\u001b[2;36m \u001b[0mearly shutoff detected at \u001b[1;36m40\u001b[0m%, exiting.                            \n"
      ]
     },
     "metadata": {},
     "output_type": "display_data"
    },
    {
     "data": {
      "text/html": [
       "<pre style=\"white-space:pre;overflow-x:auto;line-height:normal;font-family:Menlo,'DejaVu Sans Mono',consolas,'Courier New',monospace\"></pre>\n"
      ],
      "text/plain": []
     },
     "metadata": {},
     "output_type": "display_data"
    },
    {
     "data": {
      "text/html": [
       "<pre style=\"white-space:pre;overflow-x:auto;line-height:normal;font-family:Menlo,'DejaVu Sans Mono',consolas,'Courier New',monospace\">\n",
       "</pre>\n"
      ],
      "text/plain": [
       "\n"
      ]
     },
     "metadata": {},
     "output_type": "display_data"
    },
    {
     "data": {
      "text/html": [
       "<pre style=\"white-space:pre;overflow-x:auto;line-height:normal;font-family:Menlo,'DejaVu Sans Mono',consolas,'Courier New',monospace\"><span style=\"color: #7fbfbf; text-decoration-color: #7fbfbf\">             </span>status = postprocess                                               \n",
       "</pre>\n"
      ],
      "text/plain": [
       "\u001b[2;36m            \u001b[0m\u001b[2;36m \u001b[0mstatus = postprocess                                               \n"
      ]
     },
     "metadata": {},
     "output_type": "display_data"
    },
    {
     "data": {
      "application/vnd.jupyter.widget-view+json": {
       "model_id": "",
       "version_major": 2,
       "version_minor": 0
      },
      "text/plain": [
       "Output()"
      ]
     },
     "metadata": {},
     "output_type": "display_data"
    },
    {
     "data": {
      "text/html": [
       "<pre style=\"white-space:pre;overflow-x:auto;line-height:normal;font-family:Menlo,'DejaVu Sans Mono',consolas,'Courier New',monospace\"><span style=\"color: #7fbfbf; text-decoration-color: #7fbfbf\">13:30:43 EST </span>status = success                                                   \n",
       "</pre>\n"
      ],
      "text/plain": [
       "\u001b[2;36m13:30:43 EST\u001b[0m\u001b[2;36m \u001b[0mstatus = success                                                   \n"
      ]
     },
     "metadata": {},
     "output_type": "display_data"
    },
    {
     "data": {
      "text/html": [
       "<pre style=\"white-space:pre;overflow-x:auto;line-height:normal;font-family:Menlo,'DejaVu Sans Mono',consolas,'Courier New',monospace\"></pre>\n"
      ],
      "text/plain": []
     },
     "metadata": {},
     "output_type": "display_data"
    },
    {
     "data": {
      "text/html": [
       "<pre style=\"white-space:pre;overflow-x:auto;line-height:normal;font-family:Menlo,'DejaVu Sans Mono',consolas,'Courier New',monospace\"><span style=\"color: #7fbfbf; text-decoration-color: #7fbfbf\">             </span>View simulation result at                                          \n",
       "<span style=\"color: #7fbfbf; text-decoration-color: #7fbfbf\">             </span><a href=\"https://tidy3d.simulation.cloud/workbench?taskId=fdve-a22f27be-15ef-47df-9295-9517dd74ed5d\" target=\"_blank\"><span style=\"color: #000080; text-decoration-color: #000080; text-decoration: underline\">'https://tidy3d.simulation.cloud/workbench?taskId=fdve-a22f27be-15e</span></a>\n",
       "<span style=\"color: #7fbfbf; text-decoration-color: #7fbfbf\">             </span><a href=\"https://tidy3d.simulation.cloud/workbench?taskId=fdve-a22f27be-15ef-47df-9295-9517dd74ed5d\" target=\"_blank\"><span style=\"color: #000080; text-decoration-color: #000080; text-decoration: underline\">f-47df-9295-9517dd74ed5d'</span></a><span style=\"color: #000080; text-decoration-color: #000080; text-decoration: underline\">.</span>                                         \n",
       "</pre>\n"
      ],
      "text/plain": [
       "\u001b[2;36m            \u001b[0m\u001b[2;36m \u001b[0mView simulation result at                                          \n",
       "\u001b[2;36m             \u001b[0m\u001b]8;id=518606;https://tidy3d.simulation.cloud/workbench?taskId=fdve-a22f27be-15ef-47df-9295-9517dd74ed5d\u001b\\\u001b[4;34m'https://tidy3d.simulation.cloud/workbench?\u001b[0m\u001b]8;;\u001b\\\u001b]8;id=935109;https://tidy3d.simulation.cloud/workbench?taskId=fdve-a22f27be-15ef-47df-9295-9517dd74ed5d\u001b\\\u001b[4;34mtaskId\u001b[0m\u001b]8;;\u001b\\\u001b]8;id=518606;https://tidy3d.simulation.cloud/workbench?taskId=fdve-a22f27be-15ef-47df-9295-9517dd74ed5d\u001b\\\u001b[4;34m=\u001b[0m\u001b]8;;\u001b\\\u001b]8;id=510209;https://tidy3d.simulation.cloud/workbench?taskId=fdve-a22f27be-15ef-47df-9295-9517dd74ed5d\u001b\\\u001b[4;34mfdve\u001b[0m\u001b]8;;\u001b\\\u001b]8;id=518606;https://tidy3d.simulation.cloud/workbench?taskId=fdve-a22f27be-15ef-47df-9295-9517dd74ed5d\u001b\\\u001b[4;34m-a22f27be-15e\u001b[0m\u001b]8;;\u001b\\\n",
       "\u001b[2;36m             \u001b[0m\u001b]8;id=518606;https://tidy3d.simulation.cloud/workbench?taskId=fdve-a22f27be-15ef-47df-9295-9517dd74ed5d\u001b\\\u001b[4;34mf-47df-9295-9517dd74ed5d'\u001b[0m\u001b]8;;\u001b\\\u001b[4;34m.\u001b[0m                                         \n"
      ]
     },
     "metadata": {},
     "output_type": "display_data"
    },
    {
     "data": {
      "application/vnd.jupyter.widget-view+json": {
       "model_id": "40a00be5832141b18555a788f749e5b6",
       "version_major": 2,
       "version_minor": 0
      },
      "text/plain": [
       "Output()"
      ]
     },
     "metadata": {},
     "output_type": "display_data"
    },
    {
     "data": {
      "text/html": [
       "<pre style=\"white-space:pre;overflow-x:auto;line-height:normal;font-family:Menlo,'DejaVu Sans Mono',consolas,'Courier New',monospace\"></pre>\n"
      ],
      "text/plain": []
     },
     "metadata": {},
     "output_type": "display_data"
    },
    {
     "data": {
      "text/html": [
       "<pre style=\"white-space:pre;overflow-x:auto;line-height:normal;font-family:Menlo,'DejaVu Sans Mono',consolas,'Courier New',monospace\">\n",
       "</pre>\n"
      ],
      "text/plain": [
       "\n"
      ]
     },
     "metadata": {},
     "output_type": "display_data"
    },
    {
     "data": {
      "text/html": [
       "<pre style=\"white-space:pre;overflow-x:auto;line-height:normal;font-family:Menlo,'DejaVu Sans Mono',consolas,'Courier New',monospace\"><span style=\"color: #7fbfbf; text-decoration-color: #7fbfbf\">13:30:44 EST </span>loading simulation from simulation_data.hdf5                       \n",
       "</pre>\n"
      ],
      "text/plain": [
       "\u001b[2;36m13:30:44 EST\u001b[0m\u001b[2;36m \u001b[0mloading simulation from simulation_data.hdf5                       \n"
      ]
     },
     "metadata": {},
     "output_type": "display_data"
    }
   ],
   "source": [
    "sim_2d_data = web.run(sim_2d, task_name=\"var eps\")\n",
    "sim_1d_data = web.run(sim_1d, task_name=\"var eps\")"
   ]
  },
  {
   "cell_type": "markdown",
   "id": "0d6294c1-5023-4c91-a3ef-b0de0b2297fd",
   "metadata": {},
   "source": [
    "### Example 1 Result Comparison\n",
    "\n",
    "Now that both the 2D and 1D simulations have run, we will compare their results to see how representative the 1D simulation is. The results of the 1D approximation retain a reasonable qualitative fidelity to the 2D version."
   ]
  },
  {
   "cell_type": "code",
   "execution_count": 11,
   "id": "0f120c35-9ae2-4a94-8c6c-96c56b1ffc17",
   "metadata": {},
   "outputs": [
    {
     "data": {
      "image/png": "[encoded data removed]",
      "text/plain": [
       "<Figure size 1200x500 with 2 Axes>"
      ]
     },
     "metadata": {},
     "output_type": "display_data"
    }
   ],
   "source": [
    "fig, ax = plt.subplots(1, 2, figsize=(12, 5))\n",
    "\n",
    "ax[0].plot(\n",
    "    td.C_0 / sim_1d_data[\"R\"].flux.f,\n",
    "    sim_1d_data[\"R\"].flux.data,\n",
    "    label=\"1D\",\n",
    "    color=\"red\",\n",
    "    linestyle=\"--\",\n",
    ")\n",
    "ax[0].plot(td.C_0 / sim_2d_data[\"R\"].flux.f, sim_2d_data[\"R\"].flux.data, label=\"2D\", color=\"red\")\n",
    "ax[0].set_title(\"2D vs 1D Reflection\")\n",
    "ax[0].set_xlabel(\"Wavelength (µm)\")\n",
    "ax[0].legend()\n",
    "\n",
    "ax[1].plot(\n",
    "    td.C_0 / sim_1d_data[\"R\"].flux.f,\n",
    "    sim_1d_data[\"T\"].flux.data,\n",
    "    label=\"1D\",\n",
    "    color=\"blue\",\n",
    "    linestyle=\"--\",\n",
    ")\n",
    "ax[1].plot(td.C_0 / sim_2d_data[\"R\"].flux.f, sim_2d_data[\"T\"].flux.data, label=\"2D\", color=\"blue\")\n",
    "ax[1].set_title(\"2D vs 1D Transmission\")\n",
    "ax[1].set_xlabel(\"Wavelength (µm)\")\n",
    "ax[1].legend()\n",
    "\n",
    "plt.show()"
   ]
  },
  {
   "cell_type": "markdown",
   "id": "35762762-3dcb-4f44-9ee6-eee60fff9ec2",
   "metadata": {},
   "source": [
    "## Example 2: Ring Resonator"
   ]
  },
  {
   "cell_type": "markdown",
   "id": "826c2941-9f86-4a72-acf8-11b70ef7bbe7",
   "metadata": {},
   "source": [
    "We will now apply this same method to transform a 3D simulation into its 2D approximation. We will use a ring resonator and check the transmission of the through ports of both setups.<br><br>\n",
    "First we quickly build the 3D simulation:"
   ]
  },
  {
   "cell_type": "code",
   "execution_count": 12,
   "id": "7eb43d86-4e2b-43b4-93ab-ce0ce0be6cc8",
   "metadata": {},
   "outputs": [
    {
     "data": {
      "image/png": "[encoded data removed]",
      "text/plain": [
       "<Figure size 640x480 with 1 Axes>"
      ]
     },
     "metadata": {},
     "output_type": "display_data"
    }
   ],
   "source": [
    "# Define wavelength/frequency ranges\n",
    "lambda_beg = 1.5\n",
    "lambda_end = 1.6\n",
    "freq_beg = td.C_0 / lambda_end\n",
    "freq_end = td.C_0 / lambda_beg\n",
    "freq0 = (freq_beg + freq_end) / 2\n",
    "fwidth = (freq_end - freq0) / 1.5\n",
    "lambdas_ring = np.linspace(lambda_beg, lambda_end, 301)\n",
    "freqs_ring = td.C_0 / lambdas_ring[::-1]\n",
    "\n",
    "# Refractive indices\n",
    "Si_n = 3.4777\n",
    "SiO2_n = 1.444\n",
    "\n",
    "# Materials used\n",
    "Si = td.Medium(permittivity=Si_n**2)\n",
    "SiO2 = td.Medium(permittivity=SiO2_n**2)\n",
    "\n",
    "# Define geometries and their structures\n",
    "h_clad = 2.8\n",
    "h_box = 2\n",
    "h_wafer = 0.5\n",
    "\n",
    "w_wg = 0.5\n",
    "h_wg = 0.22\n",
    "couple_gap = 0.1\n",
    "ring_radius = 5\n",
    "\n",
    "z_wafer = -h_box - h_wafer / 2\n",
    "\n",
    "y_wg = ring_radius + w_wg / 2 + couple_gap + w_wg / 2\n",
    "\n",
    "waveguide_top = td.Structure(\n",
    "    geometry=td.Box(\n",
    "        center=[0, y_wg, 0],\n",
    "        size=[td.inf, w_wg, h_wg],\n",
    "    ),\n",
    "    medium=Si,\n",
    ")\n",
    "\n",
    "waveguide_bottom = td.Structure(\n",
    "    geometry=td.Box(\n",
    "        center=[0, -y_wg, 0],\n",
    "        size=[td.inf, w_wg, h_wg],\n",
    "    ),\n",
    "    medium=Si,\n",
    ")\n",
    "\n",
    "wg_ring_geo = td.Cylinder(\n",
    "    center=[0, 0, 0], axis=2, radius=ring_radius + w_wg / 2.0, length=h_wg\n",
    ") - td.Cylinder(center=[0, 0, 0], axis=2, radius=ring_radius - w_wg / 2.0, length=w_wg * 1.5)\n",
    "\n",
    "wg_ring = td.Structure(geometry=wg_ring_geo, medium=Si)\n",
    "\n",
    "x_buffer = 2\n",
    "y_buffer = 1\n",
    "z_buffer = 1\n",
    "\n",
    "z_sim = (h_clad - h_box - h_wafer) / 2\n",
    "h_sim = 3\n",
    "l_sim = 2 * ring_radius + 2 * x_buffer\n",
    "w_sim = 2 * ring_radius + 4 * y_buffer\n",
    "\n",
    "# Create Mode Source\n",
    "wg_insert_x = ring_radius + 0.9 * x_buffer\n",
    "mode_plane = td.Box(\n",
    "    center=[-wg_insert_x, y_wg, 0],\n",
    "    size=[0, 2, 2],\n",
    ")\n",
    "mode_source = td.ModeSource(\n",
    "    size=mode_plane.size,\n",
    "    center=mode_plane.center,\n",
    "    source_time=td.GaussianPulse(freq0=freq0, fwidth=fwidth),\n",
    "    mode_index=0,\n",
    "    direction=\"+\",\n",
    "    num_freqs=7,\n",
    ")\n",
    "\n",
    "# Create monitor\n",
    "through_mode_mnt = td.ModeMonitor(\n",
    "    size=mode_plane.size,\n",
    "    center=[wg_insert_x, y_wg, 0],\n",
    "    freqs=freqs_ring,\n",
    "    mode_spec=td.ModeSpec(num_modes=2),\n",
    "    name=\"mode through\",\n",
    ")\n",
    "\n",
    "# Create simulation\n",
    "min_steps_per_wvl = 15\n",
    "run_time = 8e-11\n",
    "\n",
    "sim_ring_3D = td.Simulation(\n",
    "    size=[l_sim, w_sim, h_sim],\n",
    "    center=(0, 0, 0),\n",
    "    structures=[waveguide_top, waveguide_bottom, wg_ring],\n",
    "    grid_spec=td.GridSpec.auto(min_steps_per_wvl=min_steps_per_wvl, wavelength=td.C_0 / freq0),\n",
    "    sources=[mode_source],\n",
    "    monitors=[through_mode_mnt],\n",
    "    run_time=run_time,\n",
    "    medium=SiO2,\n",
    "    symmetry=(0, 0, 1),  # add symmetry to reduce cost\n",
    ")\n",
    "\n",
    "# Visualize the simulation to check\n",
    "sim_ring_3D.plot(z=0)\n",
    "plt.show()"
   ]
  },
  {
   "cell_type": "markdown",
   "id": "20af0a05-dd59-49a6-8ae3-272ffdd3d61d",
   "metadata": {},
   "source": [
    "Same as before, we'll calculate the variational effective indices at different input wavelengths, this time downsampled to every 10th wavelength."
   ]
  },
  {
   "cell_type": "code",
   "execution_count": 13,
   "id": "77c3ee34-8395-48db-8808-1f5b36cdf091",
   "metadata": {},
   "outputs": [
    {
     "data": {
      "application/vnd.jupyter.widget-view+json": {
       "model_id": "03d579067cd74813ad468fbaea1ffb86",
       "version_major": 2,
       "version_minor": 0
      },
      "text/plain": [
       "Output()"
      ]
     },
     "metadata": {},
     "output_type": "display_data"
    },
    {
     "data": {
      "text/html": [
       "<pre style=\"white-space:pre;overflow-x:auto;line-height:normal;font-family:Menlo,'DejaVu Sans Mono',consolas,'Courier New',monospace\"></pre>\n"
      ],
      "text/plain": []
     },
     "metadata": {},
     "output_type": "display_data"
    },
    {
     "data": {
      "text/html": [
       "<pre style=\"white-space:pre;overflow-x:auto;line-height:normal;font-family:Menlo,'DejaVu Sans Mono',consolas,'Courier New',monospace\">\n",
       "</pre>\n"
      ],
      "text/plain": [
       "\n"
      ]
     },
     "metadata": {},
     "output_type": "display_data"
    },
    {
     "data": {
      "image/png": "[encoded data removed]",
      "text/plain": [
       "<Figure size 300x300 with 1 Axes>"
      ]
     },
     "metadata": {},
     "output_type": "display_data"
    }
   ],
   "source": [
    "reference_point = (0, -y_wg)\n",
    "waveguide_point = (0, -y_wg)\n",
    "other_point = (0, 0)\n",
    "\n",
    "# Downsample wavelengths to speed up the calculation\n",
    "spectrum = lambdas_ring[::10]\n",
    "ring_waveguide_medium = approximate_material(\n",
    "    sim_ring_3D, waveguide_point, reference_point, spectrum, plot=True\n",
    ")"
   ]
  },
  {
   "cell_type": "code",
   "execution_count": 14,
   "id": "4ade732a-6ce6-4847-a5ba-c5923834d667",
   "metadata": {},
   "outputs": [
    {
     "data": {
      "application/vnd.jupyter.widget-view+json": {
       "model_id": "93ca9f9037d9429eb14f7ecea5f776d9",
       "version_major": 2,
       "version_minor": 0
      },
      "text/plain": [
       "Output()"
      ]
     },
     "metadata": {},
     "output_type": "display_data"
    },
    {
     "data": {
      "text/html": [
       "<pre style=\"white-space:pre;overflow-x:auto;line-height:normal;font-family:Menlo,'DejaVu Sans Mono',consolas,'Courier New',monospace\"></pre>\n"
      ],
      "text/plain": []
     },
     "metadata": {},
     "output_type": "display_data"
    },
    {
     "data": {
      "text/html": [
       "<pre style=\"white-space:pre;overflow-x:auto;line-height:normal;font-family:Menlo,'DejaVu Sans Mono',consolas,'Courier New',monospace\">\n",
       "</pre>\n"
      ],
      "text/plain": [
       "\n"
      ]
     },
     "metadata": {},
     "output_type": "display_data"
    }
   ],
   "source": [
    "ring_background_medium = approximate_material(sim_ring_3D, other_point, reference_point, spectrum)"
   ]
  },
  {
   "cell_type": "markdown",
   "id": "bbda4057-4feb-4350-8de7-ac3d9668ba7f",
   "metadata": {},
   "source": [
    "As before, we create a 2D copy of the simulation and replace the mediums with those that we just calculated."
   ]
  },
  {
   "cell_type": "code",
   "execution_count": 15,
   "id": "4a0245f6-7372-4315-a919-1bfd49ea192f",
   "metadata": {},
   "outputs": [
    {
     "name": "stdout",
     "output_type": "stream",
     "text": [
      "Note: removed symmetry, as it is incompatible with the variational approximation method.\n"
     ]
    },
    {
     "data": {
      "image/png": "[encoded data removed]",
      "text/plain": [
       "<Figure size 640x480 with 2 Axes>"
      ]
     },
     "metadata": {},
     "output_type": "display_data"
    }
   ],
   "source": [
    "sim_ring_2D = create_2D_sim(sim_ring_3D, [ring_waveguide_medium, ring_background_medium])\n",
    "\n",
    "sim_ring_2D.plot_eps(z=0, freq=freq0)\n",
    "plt.show()"
   ]
  },
  {
   "cell_type": "code",
   "execution_count": 16,
   "id": "71d391f2-3935-44a3-9a8d-1cf4abb4e219",
   "metadata": {},
   "outputs": [
    {
     "data": {
      "text/html": [
       "<pre style=\"white-space:pre;overflow-x:auto;line-height:normal;font-family:Menlo,'DejaVu Sans Mono',consolas,'Courier New',monospace\"><span style=\"color: #7fbfbf; text-decoration-color: #7fbfbf\">13:31:11 EST </span>Created task <span style=\"color: #008000; text-decoration-color: #008000\">'2.5D FDTD ring resonator 2D'</span> with task_id            \n",
       "<span style=\"color: #7fbfbf; text-decoration-color: #7fbfbf\">             </span><span style=\"color: #008000; text-decoration-color: #008000\">'fdve-f748f5dd-5884-4d3e-be98-4eefe1f9df95'</span> and task_type <span style=\"color: #008000; text-decoration-color: #008000\">'FDTD'</span>.  \n",
       "</pre>\n"
      ],
      "text/plain": [
       "\u001b[2;36m13:31:11 EST\u001b[0m\u001b[2;36m \u001b[0mCreated task \u001b[32m'2.5D FDTD ring resonator 2D'\u001b[0m with task_id            \n",
       "\u001b[2;36m             \u001b[0m\u001b[32m'fdve-f748f5dd-5884-4d3e-be98-4eefe1f9df95'\u001b[0m and task_type \u001b[32m'FDTD'\u001b[0m.  \n"
      ]
     },
     "metadata": {},
     "output_type": "display_data"
    },
    {
     "data": {
      "text/html": [
       "<pre style=\"white-space:pre;overflow-x:auto;line-height:normal;font-family:Menlo,'DejaVu Sans Mono',consolas,'Courier New',monospace\"><span style=\"color: #7fbfbf; text-decoration-color: #7fbfbf\">             </span>View task using web UI at                                          \n",
       "<span style=\"color: #7fbfbf; text-decoration-color: #7fbfbf\">             </span><a href=\"https://tidy3d.simulation.cloud/workbench?taskId=fdve-f748f5dd-5884-4d3e-be98-4eefe1f9df95\" target=\"_blank\"><span style=\"color: #008000; text-decoration-color: #008000\">'https://tidy3d.simulation.cloud/workbench?taskId=fdve-f748f5dd-588</span></a>\n",
       "<span style=\"color: #7fbfbf; text-decoration-color: #7fbfbf\">             </span><a href=\"https://tidy3d.simulation.cloud/workbench?taskId=fdve-f748f5dd-5884-4d3e-be98-4eefe1f9df95\" target=\"_blank\"><span style=\"color: #008000; text-decoration-color: #008000\">4-4d3e-be98-4eefe1f9df95'</span></a>.                                         \n",
       "</pre>\n"
      ],
      "text/plain": [
       "\u001b[2;36m            \u001b[0m\u001b[2;36m \u001b[0mView task using web UI at                                          \n",
       "\u001b[2;36m             \u001b[0m\u001b]8;id=114736;https://tidy3d.simulation.cloud/workbench?taskId=fdve-f748f5dd-5884-4d3e-be98-4eefe1f9df95\u001b\\\u001b[32m'https://tidy3d.simulation.cloud/workbench?\u001b[0m\u001b]8;;\u001b\\\u001b]8;id=24428;https://tidy3d.simulation.cloud/workbench?taskId=fdve-f748f5dd-5884-4d3e-be98-4eefe1f9df95\u001b\\\u001b[32mtaskId\u001b[0m\u001b]8;;\u001b\\\u001b]8;id=114736;https://tidy3d.simulation.cloud/workbench?taskId=fdve-f748f5dd-5884-4d3e-be98-4eefe1f9df95\u001b\\\u001b[32m=\u001b[0m\u001b]8;;\u001b\\\u001b]8;id=201938;https://tidy3d.simulation.cloud/workbench?taskId=fdve-f748f5dd-5884-4d3e-be98-4eefe1f9df95\u001b\\\u001b[32mfdve\u001b[0m\u001b]8;;\u001b\\\u001b]8;id=114736;https://tidy3d.simulation.cloud/workbench?taskId=fdve-f748f5dd-5884-4d3e-be98-4eefe1f9df95\u001b\\\u001b[32m-f748f5dd-588\u001b[0m\u001b]8;;\u001b\\\n",
       "\u001b[2;36m             \u001b[0m\u001b]8;id=114736;https://tidy3d.simulation.cloud/workbench?taskId=fdve-f748f5dd-5884-4d3e-be98-4eefe1f9df95\u001b\\\u001b[32m4-4d3e-be98-4eefe1f9df95'\u001b[0m\u001b]8;;\u001b\\.                                         \n"
      ]
     },
     "metadata": {},
     "output_type": "display_data"
    },
    {
     "data": {
      "application/vnd.jupyter.widget-view+json": {
       "model_id": "7fde33b614374403b37fd1d5478bdaa2",
       "version_major": 2,
       "version_minor": 0
      },
      "text/plain": [
       "Output()"
      ]
     },
     "metadata": {},
     "output_type": "display_data"
    },
    {
     "data": {
      "text/html": [
       "<pre style=\"white-space:pre;overflow-x:auto;line-height:normal;font-family:Menlo,'DejaVu Sans Mono',consolas,'Courier New',monospace\"></pre>\n"
      ],
      "text/plain": []
     },
     "metadata": {},
     "output_type": "display_data"
    },
    {
     "data": {
      "text/html": [
       "<pre style=\"white-space:pre;overflow-x:auto;line-height:normal;font-family:Menlo,'DejaVu Sans Mono',consolas,'Courier New',monospace\">\n",
       "</pre>\n"
      ],
      "text/plain": [
       "\n"
      ]
     },
     "metadata": {},
     "output_type": "display_data"
    },
    {
     "data": {
      "text/html": [
       "<pre style=\"white-space:pre;overflow-x:auto;line-height:normal;font-family:Menlo,'DejaVu Sans Mono',consolas,'Courier New',monospace\"><span style=\"color: #7fbfbf; text-decoration-color: #7fbfbf\">13:31:13 EST </span>status = queued                                                    \n",
       "</pre>\n"
      ],
      "text/plain": [
       "\u001b[2;36m13:31:13 EST\u001b[0m\u001b[2;36m \u001b[0mstatus = queued                                                    \n"
      ]
     },
     "metadata": {},
     "output_type": "display_data"
    },
    {
     "data": {
      "text/html": [
       "<pre style=\"white-space:pre;overflow-x:auto;line-height:normal;font-family:Menlo,'DejaVu Sans Mono',consolas,'Courier New',monospace\"><span style=\"color: #7fbfbf; text-decoration-color: #7fbfbf\">             </span>To cancel the simulation, use <span style=\"color: #008000; text-decoration-color: #008000\">'web.abort(task_id)'</span> or              \n",
       "<span style=\"color: #7fbfbf; text-decoration-color: #7fbfbf\">             </span><span style=\"color: #008000; text-decoration-color: #008000\">'web.delete(task_id)'</span> or abort/delete the task in the web UI.      \n",
       "<span style=\"color: #7fbfbf; text-decoration-color: #7fbfbf\">             </span>Terminating the Python script will not stop the job running on the \n",
       "<span style=\"color: #7fbfbf; text-decoration-color: #7fbfbf\">             </span>cloud.                                                             \n",
       "</pre>\n"
      ],
      "text/plain": [
       "\u001b[2;36m            \u001b[0m\u001b[2;36m \u001b[0mTo cancel the simulation, use \u001b[32m'web.abort\u001b[0m\u001b[32m(\u001b[0m\u001b[32mtask_id\u001b[0m\u001b[32m)\u001b[0m\u001b[32m'\u001b[0m or              \n",
       "\u001b[2;36m             \u001b[0m\u001b[32m'web.delete\u001b[0m\u001b[32m(\u001b[0m\u001b[32mtask_id\u001b[0m\u001b[32m)\u001b[0m\u001b[32m'\u001b[0m or abort/delete the task in the web UI.      \n",
       "\u001b[2;36m             \u001b[0mTerminating the Python script will not stop the job running on the \n",
       "\u001b[2;36m             \u001b[0mcloud.                                                             \n"
      ]
     },
     "metadata": {},
     "output_type": "display_data"
    },
    {
     "data": {
      "application/vnd.jupyter.widget-view+json": {
       "model_id": "",
       "version_major": 2,
       "version_minor": 0
      },
      "text/plain": [
       "Output()"
      ]
     },
     "metadata": {},
     "output_type": "display_data"
    },
    {
     "data": {
      "text/html": [
       "<pre style=\"white-space:pre;overflow-x:auto;line-height:normal;font-family:Menlo,'DejaVu Sans Mono',consolas,'Courier New',monospace\"><span style=\"color: #7fbfbf; text-decoration-color: #7fbfbf\">13:31:26 EST </span>status = preprocess                                                \n",
       "</pre>\n"
      ],
      "text/plain": [
       "\u001b[2;36m13:31:26 EST\u001b[0m\u001b[2;36m \u001b[0mstatus = preprocess                                                \n"
      ]
     },
     "metadata": {},
     "output_type": "display_data"
    },
    {
     "data": {
      "text/html": [
       "<pre style=\"white-space:pre;overflow-x:auto;line-height:normal;font-family:Menlo,'DejaVu Sans Mono',consolas,'Courier New',monospace\"></pre>\n"
      ],
      "text/plain": []
     },
     "metadata": {},
     "output_type": "display_data"
    },
    {
     "data": {
      "text/html": [
       "<pre style=\"white-space:pre;overflow-x:auto;line-height:normal;font-family:Menlo,'DejaVu Sans Mono',consolas,'Courier New',monospace\"><span style=\"color: #7fbfbf; text-decoration-color: #7fbfbf\">13:31:29 EST </span>Maximum FlexCredit cost: <span style=\"color: #008080; text-decoration-color: #008080; font-weight: bold\">0.203</span>. Use <span style=\"color: #008000; text-decoration-color: #008000\">'web.real_cost(task_id)'</span> to get\n",
       "<span style=\"color: #7fbfbf; text-decoration-color: #7fbfbf\">             </span>the billed FlexCredit cost after a simulation run.                 \n",
       "</pre>\n"
      ],
      "text/plain": [
       "\u001b[2;36m13:31:29 EST\u001b[0m\u001b[2;36m \u001b[0mMaximum FlexCredit cost: \u001b[1;36m0.203\u001b[0m. Use \u001b[32m'web.real_cost\u001b[0m\u001b[32m(\u001b[0m\u001b[32mtask_id\u001b[0m\u001b[32m)\u001b[0m\u001b[32m'\u001b[0m to get\n",
       "\u001b[2;36m             \u001b[0mthe billed FlexCredit cost after a simulation run.                 \n"
      ]
     },
     "metadata": {},
     "output_type": "display_data"
    },
    {
     "data": {
      "text/html": [
       "<pre style=\"white-space:pre;overflow-x:auto;line-height:normal;font-family:Menlo,'DejaVu Sans Mono',consolas,'Courier New',monospace\"><span style=\"color: #7fbfbf; text-decoration-color: #7fbfbf\">             </span>starting up solver                                                 \n",
       "</pre>\n"
      ],
      "text/plain": [
       "\u001b[2;36m            \u001b[0m\u001b[2;36m \u001b[0mstarting up solver                                                 \n"
      ]
     },
     "metadata": {},
     "output_type": "display_data"
    },
    {
     "data": {
      "text/html": [
       "<pre style=\"white-space:pre;overflow-x:auto;line-height:normal;font-family:Menlo,'DejaVu Sans Mono',consolas,'Courier New',monospace\"><span style=\"color: #7fbfbf; text-decoration-color: #7fbfbf\">13:31:30 EST </span>running solver                                                     \n",
       "</pre>\n"
      ],
      "text/plain": [
       "\u001b[2;36m13:31:30 EST\u001b[0m\u001b[2;36m \u001b[0mrunning solver                                                     \n"
      ]
     },
     "metadata": {},
     "output_type": "display_data"
    },
    {
     "data": {
      "application/vnd.jupyter.widget-view+json": {
       "model_id": "36072bb2e2874ac8b75a30f762b33b7c",
       "version_major": 2,
       "version_minor": 0
      },
      "text/plain": [
       "Output()"
      ]
     },
     "metadata": {},
     "output_type": "display_data"
    },
    {
     "data": {
      "text/html": [
       "<pre style=\"white-space:pre;overflow-x:auto;line-height:normal;font-family:Menlo,'DejaVu Sans Mono',consolas,'Courier New',monospace\"><span style=\"color: #7fbfbf; text-decoration-color: #7fbfbf\">13:32:16 EST </span>early shutoff detected at <span style=\"color: #008080; text-decoration-color: #008080; font-weight: bold\">24</span>%, exiting.                            \n",
       "</pre>\n"
      ],
      "text/plain": [
       "\u001b[2;36m13:32:16 EST\u001b[0m\u001b[2;36m \u001b[0mearly shutoff detected at \u001b[1;36m24\u001b[0m%, exiting.                            \n"
      ]
     },
     "metadata": {},
     "output_type": "display_data"
    },
    {
     "data": {
      "text/html": [
       "<pre style=\"white-space:pre;overflow-x:auto;line-height:normal;font-family:Menlo,'DejaVu Sans Mono',consolas,'Courier New',monospace\"></pre>\n"
      ],
      "text/plain": []
     },
     "metadata": {},
     "output_type": "display_data"
    },
    {
     "data": {
      "text/html": [
       "<pre style=\"white-space:pre;overflow-x:auto;line-height:normal;font-family:Menlo,'DejaVu Sans Mono',consolas,'Courier New',monospace\">\n",
       "</pre>\n"
      ],
      "text/plain": [
       "\n"
      ]
     },
     "metadata": {},
     "output_type": "display_data"
    },
    {
     "data": {
      "text/html": [
       "<pre style=\"white-space:pre;overflow-x:auto;line-height:normal;font-family:Menlo,'DejaVu Sans Mono',consolas,'Courier New',monospace\"><span style=\"color: #7fbfbf; text-decoration-color: #7fbfbf\">             </span>status = postprocess                                               \n",
       "</pre>\n"
      ],
      "text/plain": [
       "\u001b[2;36m            \u001b[0m\u001b[2;36m \u001b[0mstatus = postprocess                                               \n"
      ]
     },
     "metadata": {},
     "output_type": "display_data"
    },
    {
     "data": {
      "application/vnd.jupyter.widget-view+json": {
       "model_id": "",
       "version_major": 2,
       "version_minor": 0
      },
      "text/plain": [
       "Output()"
      ]
     },
     "metadata": {},
     "output_type": "display_data"
    },
    {
     "data": {
      "text/html": [
       "<pre style=\"white-space:pre;overflow-x:auto;line-height:normal;font-family:Menlo,'DejaVu Sans Mono',consolas,'Courier New',monospace\"><span style=\"color: #7fbfbf; text-decoration-color: #7fbfbf\">             </span>status = success                                                   \n",
       "</pre>\n"
      ],
      "text/plain": [
       "\u001b[2;36m            \u001b[0m\u001b[2;36m \u001b[0mstatus = success                                                   \n"
      ]
     },
     "metadata": {},
     "output_type": "display_data"
    },
    {
     "data": {
      "text/html": [
       "<pre style=\"white-space:pre;overflow-x:auto;line-height:normal;font-family:Menlo,'DejaVu Sans Mono',consolas,'Courier New',monospace\"></pre>\n"
      ],
      "text/plain": []
     },
     "metadata": {},
     "output_type": "display_data"
    },
    {
     "data": {
      "text/html": [
       "<pre style=\"white-space:pre;overflow-x:auto;line-height:normal;font-family:Menlo,'DejaVu Sans Mono',consolas,'Courier New',monospace\"><span style=\"color: #7fbfbf; text-decoration-color: #7fbfbf\">             </span>View simulation result at                                          \n",
       "<span style=\"color: #7fbfbf; text-decoration-color: #7fbfbf\">             </span><a href=\"https://tidy3d.simulation.cloud/workbench?taskId=fdve-f748f5dd-5884-4d3e-be98-4eefe1f9df95\" target=\"_blank\"><span style=\"color: #000080; text-decoration-color: #000080; text-decoration: underline\">'https://tidy3d.simulation.cloud/workbench?taskId=fdve-f748f5dd-588</span></a>\n",
       "<span style=\"color: #7fbfbf; text-decoration-color: #7fbfbf\">             </span><a href=\"https://tidy3d.simulation.cloud/workbench?taskId=fdve-f748f5dd-5884-4d3e-be98-4eefe1f9df95\" target=\"_blank\"><span style=\"color: #000080; text-decoration-color: #000080; text-decoration: underline\">4-4d3e-be98-4eefe1f9df95'</span></a><span style=\"color: #000080; text-decoration-color: #000080; text-decoration: underline\">.</span>                                         \n",
       "</pre>\n"
      ],
      "text/plain": [
       "\u001b[2;36m            \u001b[0m\u001b[2;36m \u001b[0mView simulation result at                                          \n",
       "\u001b[2;36m             \u001b[0m\u001b]8;id=123452;https://tidy3d.simulation.cloud/workbench?taskId=fdve-f748f5dd-5884-4d3e-be98-4eefe1f9df95\u001b\\\u001b[4;34m'https://tidy3d.simulation.cloud/workbench?\u001b[0m\u001b]8;;\u001b\\\u001b]8;id=625074;https://tidy3d.simulation.cloud/workbench?taskId=fdve-f748f5dd-5884-4d3e-be98-4eefe1f9df95\u001b\\\u001b[4;34mtaskId\u001b[0m\u001b]8;;\u001b\\\u001b]8;id=123452;https://tidy3d.simulation.cloud/workbench?taskId=fdve-f748f5dd-5884-4d3e-be98-4eefe1f9df95\u001b\\\u001b[4;34m=\u001b[0m\u001b]8;;\u001b\\\u001b]8;id=838700;https://tidy3d.simulation.cloud/workbench?taskId=fdve-f748f5dd-5884-4d3e-be98-4eefe1f9df95\u001b\\\u001b[4;34mfdve\u001b[0m\u001b]8;;\u001b\\\u001b]8;id=123452;https://tidy3d.simulation.cloud/workbench?taskId=fdve-f748f5dd-5884-4d3e-be98-4eefe1f9df95\u001b\\\u001b[4;34m-f748f5dd-588\u001b[0m\u001b]8;;\u001b\\\n",
       "\u001b[2;36m             \u001b[0m\u001b]8;id=123452;https://tidy3d.simulation.cloud/workbench?taskId=fdve-f748f5dd-5884-4d3e-be98-4eefe1f9df95\u001b\\\u001b[4;34m4-4d3e-be98-4eefe1f9df95'\u001b[0m\u001b]8;;\u001b\\\u001b[4;34m.\u001b[0m                                         \n"
      ]
     },
     "metadata": {},
     "output_type": "display_data"
    },
    {
     "data": {
      "application/vnd.jupyter.widget-view+json": {
       "model_id": "2d72798360574db685e659afa577bd61",
       "version_major": 2,
       "version_minor": 0
      },
      "text/plain": [
       "Output()"
      ]
     },
     "metadata": {},
     "output_type": "display_data"
    },
    {
     "data": {
      "text/html": [
       "<pre style=\"white-space:pre;overflow-x:auto;line-height:normal;font-family:Menlo,'DejaVu Sans Mono',consolas,'Courier New',monospace\"></pre>\n"
      ],
      "text/plain": []
     },
     "metadata": {},
     "output_type": "display_data"
    },
    {
     "data": {
      "text/html": [
       "<pre style=\"white-space:pre;overflow-x:auto;line-height:normal;font-family:Menlo,'DejaVu Sans Mono',consolas,'Courier New',monospace\">\n",
       "</pre>\n"
      ],
      "text/plain": [
       "\n"
      ]
     },
     "metadata": {},
     "output_type": "display_data"
    },
    {
     "data": {
      "text/html": [
       "<pre style=\"white-space:pre;overflow-x:auto;line-height:normal;font-family:Menlo,'DejaVu Sans Mono',consolas,'Courier New',monospace\"><span style=\"color: #7fbfbf; text-decoration-color: #7fbfbf\">13:32:17 EST </span>loading simulation from simulation_data.hdf5                       \n",
       "</pre>\n"
      ],
      "text/plain": [
       "\u001b[2;36m13:32:17 EST\u001b[0m\u001b[2;36m \u001b[0mloading simulation from simulation_data.hdf5                       \n"
      ]
     },
     "metadata": {},
     "output_type": "display_data"
    },
    {
     "data": {
      "text/html": [
       "<pre style=\"white-space:pre;overflow-x:auto;line-height:normal;font-family:Menlo,'DejaVu Sans Mono',consolas,'Courier New',monospace\"><span style=\"color: #7fbfbf; text-decoration-color: #7fbfbf\">             </span>Created task <span style=\"color: #008000; text-decoration-color: #008000\">'2.5D FDTD ring resonator 3D'</span> with task_id            \n",
       "<span style=\"color: #7fbfbf; text-decoration-color: #7fbfbf\">             </span><span style=\"color: #008000; text-decoration-color: #008000\">'fdve-0f179763-63fa-42ff-9c25-6c48fae8cff1'</span> and task_type <span style=\"color: #008000; text-decoration-color: #008000\">'FDTD'</span>.  \n",
       "</pre>\n"
      ],
      "text/plain": [
       "\u001b[2;36m            \u001b[0m\u001b[2;36m \u001b[0mCreated task \u001b[32m'2.5D FDTD ring resonator 3D'\u001b[0m with task_id            \n",
       "\u001b[2;36m             \u001b[0m\u001b[32m'fdve-0f179763-63fa-42ff-9c25-6c48fae8cff1'\u001b[0m and task_type \u001b[32m'FDTD'\u001b[0m.  \n"
      ]
     },
     "metadata": {},
     "output_type": "display_data"
    },
    {
     "data": {
      "text/html": [
       "<pre style=\"white-space:pre;overflow-x:auto;line-height:normal;font-family:Menlo,'DejaVu Sans Mono',consolas,'Courier New',monospace\"><span style=\"color: #7fbfbf; text-decoration-color: #7fbfbf\">             </span>View task using web UI at                                          \n",
       "<span style=\"color: #7fbfbf; text-decoration-color: #7fbfbf\">             </span><a href=\"https://tidy3d.simulation.cloud/workbench?taskId=fdve-0f179763-63fa-42ff-9c25-6c48fae8cff1\" target=\"_blank\"><span style=\"color: #008000; text-decoration-color: #008000\">'https://tidy3d.simulation.cloud/workbench?taskId=fdve-0f179763-63f</span></a>\n",
       "<span style=\"color: #7fbfbf; text-decoration-color: #7fbfbf\">             </span><a href=\"https://tidy3d.simulation.cloud/workbench?taskId=fdve-0f179763-63fa-42ff-9c25-6c48fae8cff1\" target=\"_blank\"><span style=\"color: #008000; text-decoration-color: #008000\">a-42ff-9c25-6c48fae8cff1'</span></a>.                                         \n",
       "</pre>\n"
      ],
      "text/plain": [
       "\u001b[2;36m            \u001b[0m\u001b[2;36m \u001b[0mView task using web UI at                                          \n",
       "\u001b[2;36m             \u001b[0m\u001b]8;id=166270;https://tidy3d.simulation.cloud/workbench?taskId=fdve-0f179763-63fa-42ff-9c25-6c48fae8cff1\u001b\\\u001b[32m'https://tidy3d.simulation.cloud/workbench?\u001b[0m\u001b]8;;\u001b\\\u001b]8;id=636363;https://tidy3d.simulation.cloud/workbench?taskId=fdve-0f179763-63fa-42ff-9c25-6c48fae8cff1\u001b\\\u001b[32mtaskId\u001b[0m\u001b]8;;\u001b\\\u001b]8;id=166270;https://tidy3d.simulation.cloud/workbench?taskId=fdve-0f179763-63fa-42ff-9c25-6c48fae8cff1\u001b\\\u001b[32m=\u001b[0m\u001b]8;;\u001b\\\u001b]8;id=964428;https://tidy3d.simulation.cloud/workbench?taskId=fdve-0f179763-63fa-42ff-9c25-6c48fae8cff1\u001b\\\u001b[32mfdve\u001b[0m\u001b]8;;\u001b\\\u001b]8;id=166270;https://tidy3d.simulation.cloud/workbench?taskId=fdve-0f179763-63fa-42ff-9c25-6c48fae8cff1\u001b\\\u001b[32m-0f179763-63f\u001b[0m\u001b]8;;\u001b\\\n",
       "\u001b[2;36m             \u001b[0m\u001b]8;id=166270;https://tidy3d.simulation.cloud/workbench?taskId=fdve-0f179763-63fa-42ff-9c25-6c48fae8cff1\u001b\\\u001b[32ma-42ff-9c25-6c48fae8cff1'\u001b[0m\u001b]8;;\u001b\\.                                         \n"
      ]
     },
     "metadata": {},
     "output_type": "display_data"
    },
    {
     "data": {
      "application/vnd.jupyter.widget-view+json": {
       "model_id": "9f3a2c093e8b4ca9b629d601c528c153",
       "version_major": 2,
       "version_minor": 0
      },
      "text/plain": [
       "Output()"
      ]
     },
     "metadata": {},
     "output_type": "display_data"
    },
    {
     "data": {
      "text/html": [
       "<pre style=\"white-space:pre;overflow-x:auto;line-height:normal;font-family:Menlo,'DejaVu Sans Mono',consolas,'Courier New',monospace\"></pre>\n"
      ],
      "text/plain": []
     },
     "metadata": {},
     "output_type": "display_data"
    },
    {
     "data": {
      "text/html": [
       "<pre style=\"white-space:pre;overflow-x:auto;line-height:normal;font-family:Menlo,'DejaVu Sans Mono',consolas,'Courier New',monospace\">\n",
       "</pre>\n"
      ],
      "text/plain": [
       "\n"
      ]
     },
     "metadata": {},
     "output_type": "display_data"
    },
    {
     "data": {
      "text/html": [
       "<pre style=\"white-space:pre;overflow-x:auto;line-height:normal;font-family:Menlo,'DejaVu Sans Mono',consolas,'Courier New',monospace\"><span style=\"color: #7fbfbf; text-decoration-color: #7fbfbf\">13:32:19 EST </span>status = queued                                                    \n",
       "</pre>\n"
      ],
      "text/plain": [
       "\u001b[2;36m13:32:19 EST\u001b[0m\u001b[2;36m \u001b[0mstatus = queued                                                    \n"
      ]
     },
     "metadata": {},
     "output_type": "display_data"
    },
    {
     "data": {
      "text/html": [
       "<pre style=\"white-space:pre;overflow-x:auto;line-height:normal;font-family:Menlo,'DejaVu Sans Mono',consolas,'Courier New',monospace\"><span style=\"color: #7fbfbf; text-decoration-color: #7fbfbf\">             </span>To cancel the simulation, use <span style=\"color: #008000; text-decoration-color: #008000\">'web.abort(task_id)'</span> or              \n",
       "<span style=\"color: #7fbfbf; text-decoration-color: #7fbfbf\">             </span><span style=\"color: #008000; text-decoration-color: #008000\">'web.delete(task_id)'</span> or abort/delete the task in the web UI.      \n",
       "<span style=\"color: #7fbfbf; text-decoration-color: #7fbfbf\">             </span>Terminating the Python script will not stop the job running on the \n",
       "<span style=\"color: #7fbfbf; text-decoration-color: #7fbfbf\">             </span>cloud.                                                             \n",
       "</pre>\n"
      ],
      "text/plain": [
       "\u001b[2;36m            \u001b[0m\u001b[2;36m \u001b[0mTo cancel the simulation, use \u001b[32m'web.abort\u001b[0m\u001b[32m(\u001b[0m\u001b[32mtask_id\u001b[0m\u001b[32m)\u001b[0m\u001b[32m'\u001b[0m or              \n",
       "\u001b[2;36m             \u001b[0m\u001b[32m'web.delete\u001b[0m\u001b[32m(\u001b[0m\u001b[32mtask_id\u001b[0m\u001b[32m)\u001b[0m\u001b[32m'\u001b[0m or abort/delete the task in the web UI.      \n",
       "\u001b[2;36m             \u001b[0mTerminating the Python script will not stop the job running on the \n",
       "\u001b[2;36m             \u001b[0mcloud.                                                             \n"
      ]
     },
     "metadata": {},
     "output_type": "display_data"
    },
    {
     "data": {
      "application/vnd.jupyter.widget-view+json": {
       "model_id": "",
       "version_major": 2,
       "version_minor": 0
      },
      "text/plain": [
       "Output()"
      ]
     },
     "metadata": {},
     "output_type": "display_data"
    },
    {
     "data": {
      "text/html": [
       "<pre style=\"white-space:pre;overflow-x:auto;line-height:normal;font-family:Menlo,'DejaVu Sans Mono',consolas,'Courier New',monospace\"><span style=\"color: #7fbfbf; text-decoration-color: #7fbfbf\">13:32:47 EST </span>status = preprocess                                                \n",
       "</pre>\n"
      ],
      "text/plain": [
       "\u001b[2;36m13:32:47 EST\u001b[0m\u001b[2;36m \u001b[0mstatus = preprocess                                                \n"
      ]
     },
     "metadata": {},
     "output_type": "display_data"
    },
    {
     "data": {
      "text/html": [
       "<pre style=\"white-space:pre;overflow-x:auto;line-height:normal;font-family:Menlo,'DejaVu Sans Mono',consolas,'Courier New',monospace\"></pre>\n"
      ],
      "text/plain": []
     },
     "metadata": {},
     "output_type": "display_data"
    },
    {
     "data": {
      "text/html": [
       "<pre style=\"white-space:pre;overflow-x:auto;line-height:normal;font-family:Menlo,'DejaVu Sans Mono',consolas,'Courier New',monospace\"><span style=\"color: #7fbfbf; text-decoration-color: #7fbfbf\">13:32:49 EST </span>Maximum FlexCredit cost: <span style=\"color: #008080; text-decoration-color: #008080; font-weight: bold\">4.011</span>. Use <span style=\"color: #008000; text-decoration-color: #008000\">'web.real_cost(task_id)'</span> to get\n",
       "<span style=\"color: #7fbfbf; text-decoration-color: #7fbfbf\">             </span>the billed FlexCredit cost after a simulation run.                 \n",
       "</pre>\n"
      ],
      "text/plain": [
       "\u001b[2;36m13:32:49 EST\u001b[0m\u001b[2;36m \u001b[0mMaximum FlexCredit cost: \u001b[1;36m4.011\u001b[0m. Use \u001b[32m'web.real_cost\u001b[0m\u001b[32m(\u001b[0m\u001b[32mtask_id\u001b[0m\u001b[32m)\u001b[0m\u001b[32m'\u001b[0m to get\n",
       "\u001b[2;36m             \u001b[0mthe billed FlexCredit cost after a simulation run.                 \n"
      ]
     },
     "metadata": {},
     "output_type": "display_data"
    },
    {
     "data": {
      "text/html": [
       "<pre style=\"white-space:pre;overflow-x:auto;line-height:normal;font-family:Menlo,'DejaVu Sans Mono',consolas,'Courier New',monospace\"><span style=\"color: #7fbfbf; text-decoration-color: #7fbfbf\">             </span>starting up solver                                                 \n",
       "</pre>\n"
      ],
      "text/plain": [
       "\u001b[2;36m            \u001b[0m\u001b[2;36m \u001b[0mstarting up solver                                                 \n"
      ]
     },
     "metadata": {},
     "output_type": "display_data"
    },
    {
     "data": {
      "text/html": [
       "<pre style=\"white-space:pre;overflow-x:auto;line-height:normal;font-family:Menlo,'DejaVu Sans Mono',consolas,'Courier New',monospace\"><span style=\"color: #7fbfbf; text-decoration-color: #7fbfbf\">             </span>running solver                                                     \n",
       "</pre>\n"
      ],
      "text/plain": [
       "\u001b[2;36m            \u001b[0m\u001b[2;36m \u001b[0mrunning solver                                                     \n"
      ]
     },
     "metadata": {},
     "output_type": "display_data"
    },
    {
     "data": {
      "application/vnd.jupyter.widget-view+json": {
       "model_id": "95ab9cfb962448cd898aa92132f8376a",
       "version_major": 2,
       "version_minor": 0
      },
      "text/plain": [
       "Output()"
      ]
     },
     "metadata": {},
     "output_type": "display_data"
    },
    {
     "data": {
      "text/html": [
       "<pre style=\"white-space:pre;overflow-x:auto;line-height:normal;font-family:Menlo,'DejaVu Sans Mono',consolas,'Courier New',monospace\"><span style=\"color: #7fbfbf; text-decoration-color: #7fbfbf\">14:01:38 EST </span>early shutoff detected at <span style=\"color: #008080; text-decoration-color: #008080; font-weight: bold\">56</span>%, exiting.                            \n",
       "</pre>\n"
      ],
      "text/plain": [
       "\u001b[2;36m14:01:38 EST\u001b[0m\u001b[2;36m \u001b[0mearly shutoff detected at \u001b[1;36m56\u001b[0m%, exiting.                            \n"
      ]
     },
     "metadata": {},
     "output_type": "display_data"
    },
    {
     "data": {
      "text/html": [
       "<pre style=\"white-space:pre;overflow-x:auto;line-height:normal;font-family:Menlo,'DejaVu Sans Mono',consolas,'Courier New',monospace\"></pre>\n"
      ],
      "text/plain": []
     },
     "metadata": {},
     "output_type": "display_data"
    },
    {
     "data": {
      "text/html": [
       "<pre style=\"white-space:pre;overflow-x:auto;line-height:normal;font-family:Menlo,'DejaVu Sans Mono',consolas,'Courier New',monospace\">\n",
       "</pre>\n"
      ],
      "text/plain": [
       "\n"
      ]
     },
     "metadata": {},
     "output_type": "display_data"
    },
    {
     "data": {
      "text/html": [
       "<pre style=\"white-space:pre;overflow-x:auto;line-height:normal;font-family:Menlo,'DejaVu Sans Mono',consolas,'Courier New',monospace\"><span style=\"color: #7fbfbf; text-decoration-color: #7fbfbf\">             </span>status = postprocess                                               \n",
       "</pre>\n"
      ],
      "text/plain": [
       "\u001b[2;36m            \u001b[0m\u001b[2;36m \u001b[0mstatus = postprocess                                               \n"
      ]
     },
     "metadata": {},
     "output_type": "display_data"
    },
    {
     "data": {
      "application/vnd.jupyter.widget-view+json": {
       "model_id": "",
       "version_major": 2,
       "version_minor": 0
      },
      "text/plain": [
       "Output()"
      ]
     },
     "metadata": {},
     "output_type": "display_data"
    },
    {
     "data": {
      "text/html": [
       "<pre style=\"white-space:pre;overflow-x:auto;line-height:normal;font-family:Menlo,'DejaVu Sans Mono',consolas,'Courier New',monospace\"><span style=\"color: #7fbfbf; text-decoration-color: #7fbfbf\">14:01:40 EST </span>status = success                                                   \n",
       "</pre>\n"
      ],
      "text/plain": [
       "\u001b[2;36m14:01:40 EST\u001b[0m\u001b[2;36m \u001b[0mstatus = success                                                   \n"
      ]
     },
     "metadata": {},
     "output_type": "display_data"
    },
    {
     "data": {
      "text/html": [
       "<pre style=\"white-space:pre;overflow-x:auto;line-height:normal;font-family:Menlo,'DejaVu Sans Mono',consolas,'Courier New',monospace\"></pre>\n"
      ],
      "text/plain": []
     },
     "metadata": {},
     "output_type": "display_data"
    },
    {
     "data": {
      "text/html": [
       "<pre style=\"white-space:pre;overflow-x:auto;line-height:normal;font-family:Menlo,'DejaVu Sans Mono',consolas,'Courier New',monospace\"><span style=\"color: #7fbfbf; text-decoration-color: #7fbfbf\">             </span>View simulation result at                                          \n",
       "<span style=\"color: #7fbfbf; text-decoration-color: #7fbfbf\">             </span><a href=\"https://tidy3d.simulation.cloud/workbench?taskId=fdve-0f179763-63fa-42ff-9c25-6c48fae8cff1\" target=\"_blank\"><span style=\"color: #000080; text-decoration-color: #000080; text-decoration: underline\">'https://tidy3d.simulation.cloud/workbench?taskId=fdve-0f179763-63f</span></a>\n",
       "<span style=\"color: #7fbfbf; text-decoration-color: #7fbfbf\">             </span><a href=\"https://tidy3d.simulation.cloud/workbench?taskId=fdve-0f179763-63fa-42ff-9c25-6c48fae8cff1\" target=\"_blank\"><span style=\"color: #000080; text-decoration-color: #000080; text-decoration: underline\">a-42ff-9c25-6c48fae8cff1'</span></a><span style=\"color: #000080; text-decoration-color: #000080; text-decoration: underline\">.</span>                                         \n",
       "</pre>\n"
      ],
      "text/plain": [
       "\u001b[2;36m            \u001b[0m\u001b[2;36m \u001b[0mView simulation result at                                          \n",
       "\u001b[2;36m             \u001b[0m\u001b]8;id=682546;https://tidy3d.simulation.cloud/workbench?taskId=fdve-0f179763-63fa-42ff-9c25-6c48fae8cff1\u001b\\\u001b[4;34m'https://tidy3d.simulation.cloud/workbench?\u001b[0m\u001b]8;;\u001b\\\u001b]8;id=367402;https://tidy3d.simulation.cloud/workbench?taskId=fdve-0f179763-63fa-42ff-9c25-6c48fae8cff1\u001b\\\u001b[4;34mtaskId\u001b[0m\u001b]8;;\u001b\\\u001b]8;id=682546;https://tidy3d.simulation.cloud/workbench?taskId=fdve-0f179763-63fa-42ff-9c25-6c48fae8cff1\u001b\\\u001b[4;34m=\u001b[0m\u001b]8;;\u001b\\\u001b]8;id=643068;https://tidy3d.simulation.cloud/workbench?taskId=fdve-0f179763-63fa-42ff-9c25-6c48fae8cff1\u001b\\\u001b[4;34mfdve\u001b[0m\u001b]8;;\u001b\\\u001b]8;id=682546;https://tidy3d.simulation.cloud/workbench?taskId=fdve-0f179763-63fa-42ff-9c25-6c48fae8cff1\u001b\\\u001b[4;34m-0f179763-63f\u001b[0m\u001b]8;;\u001b\\\n",
       "\u001b[2;36m             \u001b[0m\u001b]8;id=682546;https://tidy3d.simulation.cloud/workbench?taskId=fdve-0f179763-63fa-42ff-9c25-6c48fae8cff1\u001b\\\u001b[4;34ma-42ff-9c25-6c48fae8cff1'\u001b[0m\u001b]8;;\u001b\\\u001b[4;34m.\u001b[0m                                         \n"
      ]
     },
     "metadata": {},
     "output_type": "display_data"
    },
    {
     "data": {
      "application/vnd.jupyter.widget-view+json": {
       "model_id": "f00c12893afe49e1bde139d45324c8e3",
       "version_major": 2,
       "version_minor": 0
      },
      "text/plain": [
       "Output()"
      ]
     },
     "metadata": {},
     "output_type": "display_data"
    },
    {
     "data": {
      "text/html": [
       "<pre style=\"white-space:pre;overflow-x:auto;line-height:normal;font-family:Menlo,'DejaVu Sans Mono',consolas,'Courier New',monospace\"></pre>\n"
      ],
      "text/plain": []
     },
     "metadata": {},
     "output_type": "display_data"
    },
    {
     "data": {
      "text/html": [
       "<pre style=\"white-space:pre;overflow-x:auto;line-height:normal;font-family:Menlo,'DejaVu Sans Mono',consolas,'Courier New',monospace\">\n",
       "</pre>\n"
      ],
      "text/plain": [
       "\n"
      ]
     },
     "metadata": {},
     "output_type": "display_data"
    },
    {
     "data": {
      "text/html": [
       "<pre style=\"white-space:pre;overflow-x:auto;line-height:normal;font-family:Menlo,'DejaVu Sans Mono',consolas,'Courier New',monospace\"><span style=\"color: #7fbfbf; text-decoration-color: #7fbfbf\">14:01:41 EST </span>loading simulation from simulation_data.hdf5                       \n",
       "</pre>\n"
      ],
      "text/plain": [
       "\u001b[2;36m14:01:41 EST\u001b[0m\u001b[2;36m \u001b[0mloading simulation from simulation_data.hdf5                       \n"
      ]
     },
     "metadata": {},
     "output_type": "display_data"
    }
   ],
   "source": [
    "sim_data_2D = web.run(sim_ring_2D, task_name=\"2.5D FDTD ring resonator 2D\")\n",
    "sim_data_3D = web.run(sim_ring_3D, task_name=\"2.5D FDTD ring resonator 3D\")"
   ]
  },
  {
   "cell_type": "markdown",
   "id": "3dc98bc3-bbcf-4a4b-8d86-7fab1b9bd0a4",
   "metadata": {},
   "source": [
    "### Example 2 Result Comparison\n",
    "\n",
    "We will compare the results of our 2D and 3D simulations to see how representative our approximation is. As one can see, the resonant behavior of this setup is well-approximated, especially near the central frequency. The depth of the peaks is lower in the 2D simulation because the 3D simulation takes into account vertical coupling. Toward the ends of the spectrum, there is more error in the free spectral range and resonance frequencies, although this is still well within 1% of the resonant wavelength, as we show for the first resonance. However, the next example will show that this method will not always be a good approximation."
   ]
  },
  {
   "cell_type": "code",
   "execution_count": 17,
   "id": "3e23ed0d-1a5f-4a7a-bfd2-ec7a5e3b975e",
   "metadata": {},
   "outputs": [
    {
     "data": {
      "image/png": "[encoded data removed]",
      "text/plain": [
       "<Figure size 640x480 with 1 Axes>"
      ]
     },
     "metadata": {},
     "output_type": "display_data"
    },
    {
     "name": "stdout",
     "output_type": "stream",
     "text": [
      "Difference in first resonant wavelength: 0.0033333333333331883\n"
     ]
    }
   ],
   "source": [
    "sim_data_2D[\"mode through\"].amps.sel(mode_index=0, direction=\"+\").abs.plot(x=\"f\")\n",
    "sim_data_3D[\"mode through\"].amps.sel(mode_index=0, direction=\"+\").abs.plot(x=\"f\")\n",
    "plt.legend([\"2D\", \"3D\"])\n",
    "plt.show()\n",
    "\n",
    "res_lda_2d = (\n",
    "    td.C_0 / sim_data_2D[\"mode through\"].amps.sel(mode_index=0, direction=\"+\").abs.f.data[46]\n",
    ")\n",
    "res_lda_3d = (\n",
    "    td.C_0 / sim_data_3D[\"mode through\"].amps.sel(mode_index=0, direction=\"+\").abs.f.data[56]\n",
    ")\n",
    "res_wavelength_dif = np.abs(res_lda_2d - res_lda_3d)\n",
    "print(f\"Difference in first resonant wavelength: {res_wavelength_dif}\")"
   ]
  },
  {
   "cell_type": "markdown",
   "id": "59164d1d-6a30-4c1e-8570-69fb76fccc42",
   "metadata": {},
   "source": [
    "## Strip-to-slot Counter-example\n",
    "\n",
    "This approximation method is not always applicable, and care must be taken to ensure that a given material's approximation is not too far off from the physical constraints of the original material. If not, this can lead to poor approximations. (One can check this by printing out the $n_{eff}^2 + \\frac{num}{denom}$ value calculated in the variational method function above.)\n",
    "<br><br>\n",
    "We will now show an example where this approximation does not work as well. We will use the first design of our [strip to slot converter example](https://www.flexcompute.com/tidy3d/examples/notebooks/StripToSlotConverters/). First we copy the simulation parameters from the notebook, removing the field monitor, as it will be unnecessary for this illustration:"
   ]
  },
  {
   "cell_type": "code",
   "execution_count": 18,
   "id": "2b46a885-4127-4b88-b32a-2c8714fe3b93",
   "metadata": {},
   "outputs": [
    {
     "data": {
      "image/png": "[encoded data removed]",
      "text/plain": [
       "<Figure size 640x480 with 2 Axes>"
      ]
     },
     "metadata": {},
     "output_type": "display_data"
    }
   ],
   "source": [
    "# Define wavelength/frequency ranges\n",
    "lda0 = 1.55\n",
    "ldas = np.linspace(1.5, 1.6, 101)\n",
    "freq0 = td.C_0 / lda0\n",
    "freqs = td.C_0 / ldas\n",
    "fwidth = 0.5 * (np.max(freqs) - np.min(freqs))\n",
    "\n",
    "# Create materials\n",
    "n_si = 3.47\n",
    "si = td.Medium(permittivity=n_si**2)\n",
    "n_sio2 = 1.44\n",
    "sio2 = td.Medium(permittivity=n_sio2**2)\n",
    "\n",
    "# Define geometry\n",
    "L_mmi = 1.38\n",
    "W_mmi = 1.24\n",
    "L = 6\n",
    "buffer = 5\n",
    "h_si = 0.25\n",
    "w_strip = 0.4\n",
    "w_slot = 0.62\n",
    "g = 0.1\n",
    "\n",
    "vertices = [\n",
    "    (-buffer, w_strip / 2),\n",
    "    (0, w_strip / 2),\n",
    "    (0, W_mmi / 2),\n",
    "    (L_mmi, W_mmi / 2),\n",
    "    (L, w_slot / 2),\n",
    "    (L + buffer, w_slot / 2),\n",
    "    (L + buffer, g / 2),\n",
    "    (L_mmi, g / 2),\n",
    "    (L_mmi, -g / 2),\n",
    "    (L + buffer, -g / 2),\n",
    "    (L + buffer, -w_slot / 2),\n",
    "    (L, -w_slot / 2),\n",
    "    (L_mmi, -W_mmi / 2),\n",
    "    (0, -W_mmi / 2),\n",
    "    (0, -w_strip / 2),\n",
    "    (-buffer, -w_strip / 2),\n",
    "]\n",
    "\n",
    "converter = td.Structure(\n",
    "    geometry=td.PolySlab(vertices=vertices, axis=2, slab_bounds=(-h_si / 2, h_si / 2)), medium=si\n",
    ")\n",
    "\n",
    "# Define mode source\n",
    "mode_spec = td.ModeSpec(num_modes=1, target_neff=n_si)\n",
    "mode_source = td.ModeSource(\n",
    "    center=(-lda0, 0, 0),\n",
    "    size=(0, 4 * w_strip, 6 * h_si),\n",
    "    source_time=td.GaussianPulse(freq0=freq0, fwidth=fwidth),\n",
    "    direction=\"+\",\n",
    "    mode_spec=mode_spec,\n",
    "    mode_index=0,\n",
    "    num_freqs=7,\n",
    ")\n",
    "\n",
    "# Define mode monitor\n",
    "mode_monitor = td.ModeMonitor(\n",
    "    center=(L + lda0, 0, 0),\n",
    "    size=(0, 4 * w_strip, 6 * h_si),\n",
    "    freqs=freqs,\n",
    "    mode_spec=mode_spec,\n",
    "    name=\"mode\",\n",
    ")\n",
    "\n",
    "# Define misc. simulation parameters\n",
    "Lx = L + 3 * lda0\n",
    "Ly = W_mmi + lda0\n",
    "Lz = 10 * h_si\n",
    "sim_size = (Lx, Ly, Lz)\n",
    "\n",
    "run_time = 1e-12\n",
    "\n",
    "# construct simulation\n",
    "sim_splitter_3D = td.Simulation(\n",
    "    center=(L / 2, 0, 0),\n",
    "    size=sim_size,\n",
    "    grid_spec=td.GridSpec.auto(min_steps_per_wvl=30, wavelength=lda0),\n",
    "    structures=[converter],\n",
    "    sources=[mode_source],\n",
    "    monitors=[mode_monitor],\n",
    "    run_time=run_time,\n",
    "    boundary_spec=td.BoundarySpec.all_sides(boundary=td.PML()),\n",
    "    medium=sio2,\n",
    "    symmetry=(0, -1, 1),\n",
    ")\n",
    "\n",
    "# plot the simulation\n",
    "sim_splitter_3D.plot_eps(z=0, freq=freq0)\n",
    "plt.show()"
   ]
  },
  {
   "cell_type": "markdown",
   "id": "68b9ba6d-af75-47bd-9bf7-9341f3693b97",
   "metadata": {},
   "source": [
    "Now we convert the 3D simulation to a 2D simulation, as before."
   ]
  },
  {
   "cell_type": "code",
   "execution_count": 19,
   "id": "dd794575-4213-4a95-9586-b1e1625eb316",
   "metadata": {},
   "outputs": [
    {
     "data": {
      "application/vnd.jupyter.widget-view+json": {
       "model_id": "887318dc121247b3b2f7d133968f3ac5",
       "version_major": 2,
       "version_minor": 0
      },
      "text/plain": [
       "Output()"
      ]
     },
     "metadata": {},
     "output_type": "display_data"
    },
    {
     "data": {
      "text/html": [
       "<pre style=\"white-space:pre;overflow-x:auto;line-height:normal;font-family:Menlo,'DejaVu Sans Mono',consolas,'Courier New',monospace\"></pre>\n"
      ],
      "text/plain": []
     },
     "metadata": {},
     "output_type": "display_data"
    },
    {
     "data": {
      "text/html": [
       "<pre style=\"white-space:pre;overflow-x:auto;line-height:normal;font-family:Menlo,'DejaVu Sans Mono',consolas,'Courier New',monospace\">\n",
       "</pre>\n"
      ],
      "text/plain": [
       "\n"
      ]
     },
     "metadata": {},
     "output_type": "display_data"
    },
    {
     "data": {
      "application/vnd.jupyter.widget-view+json": {
       "model_id": "ee23f339c40d455a99bb01c7164a708e",
       "version_major": 2,
       "version_minor": 0
      },
      "text/plain": [
       "Output()"
      ]
     },
     "metadata": {},
     "output_type": "display_data"
    },
    {
     "data": {
      "text/html": [
       "<pre style=\"white-space:pre;overflow-x:auto;line-height:normal;font-family:Menlo,'DejaVu Sans Mono',consolas,'Courier New',monospace\"></pre>\n"
      ],
      "text/plain": []
     },
     "metadata": {},
     "output_type": "display_data"
    },
    {
     "data": {
      "text/html": [
       "<pre style=\"white-space:pre;overflow-x:auto;line-height:normal;font-family:Menlo,'DejaVu Sans Mono',consolas,'Courier New',monospace\">\n",
       "</pre>\n"
      ],
      "text/plain": [
       "\n"
      ]
     },
     "metadata": {},
     "output_type": "display_data"
    },
    {
     "name": "stdout",
     "output_type": "stream",
     "text": [
      "Note: removed symmetry, as it is incompatible with the variational approximation method.\n"
     ]
    },
    {
     "data": {
      "image/png": "[encoded data removed]",
      "text/plain": [
       "<Figure size 640x480 with 2 Axes>"
      ]
     },
     "metadata": {},
     "output_type": "display_data"
    }
   ],
   "source": [
    "# Approximate materials by downsampling again\n",
    "spectrum = ldas[::15]\n",
    "ref_point = (0, 0)\n",
    "core_point = (0, 0)\n",
    "other_point = (2, 0)\n",
    "\n",
    "waveguide_splitter_mat = approximate_material(sim_splitter_3D, core_point, ref_point, spectrum)\n",
    "background_splitter_mat = approximate_material(sim_splitter_3D, other_point, ref_point, spectrum)\n",
    "\n",
    "sim_splitter_2D = create_2D_sim(sim_splitter_3D, [waveguide_splitter_mat, background_splitter_mat])\n",
    "sim_splitter_2D.plot_eps(z=0, freq=freq0)\n",
    "plt.show()"
   ]
  },
  {
   "cell_type": "code",
   "execution_count": 20,
   "id": "f56574ce-a75a-4d93-bab8-8715c24ddbc7",
   "metadata": {},
   "outputs": [
    {
     "data": {
      "text/html": [
       "<pre style=\"white-space:pre;overflow-x:auto;line-height:normal;font-family:Menlo,'DejaVu Sans Mono',consolas,'Courier New',monospace\"><span style=\"color: #7fbfbf; text-decoration-color: #7fbfbf\">14:01:49 EST </span>Created task <span style=\"color: #008000; text-decoration-color: #008000\">'2.5D FDTD splitter 2D'</span> with task_id                  \n",
       "<span style=\"color: #7fbfbf; text-decoration-color: #7fbfbf\">             </span><span style=\"color: #008000; text-decoration-color: #008000\">'fdve-4cb0b3d9-c535-4534-8dc7-04a64653ce14'</span> and task_type <span style=\"color: #008000; text-decoration-color: #008000\">'FDTD'</span>.  \n",
       "</pre>\n"
      ],
      "text/plain": [
       "\u001b[2;36m14:01:49 EST\u001b[0m\u001b[2;36m \u001b[0mCreated task \u001b[32m'2.5D FDTD splitter 2D'\u001b[0m with task_id                  \n",
       "\u001b[2;36m             \u001b[0m\u001b[32m'fdve-4cb0b3d9-c535-4534-8dc7-04a64653ce14'\u001b[0m and task_type \u001b[32m'FDTD'\u001b[0m.  \n"
      ]
     },
     "metadata": {},
     "output_type": "display_data"
    },
    {
     "data": {
      "text/html": [
       "<pre style=\"white-space:pre;overflow-x:auto;line-height:normal;font-family:Menlo,'DejaVu Sans Mono',consolas,'Courier New',monospace\"><span style=\"color: #7fbfbf; text-decoration-color: #7fbfbf\">             </span>View task using web UI at                                          \n",
       "<span style=\"color: #7fbfbf; text-decoration-color: #7fbfbf\">             </span><a href=\"https://tidy3d.simulation.cloud/workbench?taskId=fdve-4cb0b3d9-c535-4534-8dc7-04a64653ce14\" target=\"_blank\"><span style=\"color: #008000; text-decoration-color: #008000\">'https://tidy3d.simulation.cloud/workbench?taskId=fdve-4cb0b3d9-c53</span></a>\n",
       "<span style=\"color: #7fbfbf; text-decoration-color: #7fbfbf\">             </span><a href=\"https://tidy3d.simulation.cloud/workbench?taskId=fdve-4cb0b3d9-c535-4534-8dc7-04a64653ce14\" target=\"_blank\"><span style=\"color: #008000; text-decoration-color: #008000\">5-4534-8dc7-04a64653ce14'</span></a>.                                         \n",
       "</pre>\n"
      ],
      "text/plain": [
       "\u001b[2;36m            \u001b[0m\u001b[2;36m \u001b[0mView task using web UI at                                          \n",
       "\u001b[2;36m             \u001b[0m\u001b]8;id=112189;https://tidy3d.simulation.cloud/workbench?taskId=fdve-4cb0b3d9-c535-4534-8dc7-04a64653ce14\u001b\\\u001b[32m'https://tidy3d.simulation.cloud/workbench?\u001b[0m\u001b]8;;\u001b\\\u001b]8;id=746483;https://tidy3d.simulation.cloud/workbench?taskId=fdve-4cb0b3d9-c535-4534-8dc7-04a64653ce14\u001b\\\u001b[32mtaskId\u001b[0m\u001b]8;;\u001b\\\u001b]8;id=112189;https://tidy3d.simulation.cloud/workbench?taskId=fdve-4cb0b3d9-c535-4534-8dc7-04a64653ce14\u001b\\\u001b[32m=\u001b[0m\u001b]8;;\u001b\\\u001b]8;id=638851;https://tidy3d.simulation.cloud/workbench?taskId=fdve-4cb0b3d9-c535-4534-8dc7-04a64653ce14\u001b\\\u001b[32mfdve\u001b[0m\u001b]8;;\u001b\\\u001b]8;id=112189;https://tidy3d.simulation.cloud/workbench?taskId=fdve-4cb0b3d9-c535-4534-8dc7-04a64653ce14\u001b\\\u001b[32m-4cb0b3d9-c53\u001b[0m\u001b]8;;\u001b\\\n",
       "\u001b[2;36m             \u001b[0m\u001b]8;id=112189;https://tidy3d.simulation.cloud/workbench?taskId=fdve-4cb0b3d9-c535-4534-8dc7-04a64653ce14\u001b\\\u001b[32m5-4534-8dc7-04a64653ce14'\u001b[0m\u001b]8;;\u001b\\.                                         \n"
      ]
     },
     "metadata": {},
     "output_type": "display_data"
    },
    {
     "data": {
      "application/vnd.jupyter.widget-view+json": {
       "model_id": "011f409911a544e683995eb4f19f7db7",
       "version_major": 2,
       "version_minor": 0
      },
      "text/plain": [
       "Output()"
      ]
     },
     "metadata": {},
     "output_type": "display_data"
    },
    {
     "data": {
      "text/html": [
       "<pre style=\"white-space:pre;overflow-x:auto;line-height:normal;font-family:Menlo,'DejaVu Sans Mono',consolas,'Courier New',monospace\"></pre>\n"
      ],
      "text/plain": []
     },
     "metadata": {},
     "output_type": "display_data"
    },
    {
     "data": {
      "text/html": [
       "<pre style=\"white-space:pre;overflow-x:auto;line-height:normal;font-family:Menlo,'DejaVu Sans Mono',consolas,'Courier New',monospace\">\n",
       "</pre>\n"
      ],
      "text/plain": [
       "\n"
      ]
     },
     "metadata": {},
     "output_type": "display_data"
    },
    {
     "data": {
      "text/html": [
       "<pre style=\"white-space:pre;overflow-x:auto;line-height:normal;font-family:Menlo,'DejaVu Sans Mono',consolas,'Courier New',monospace\"><span style=\"color: #7fbfbf; text-decoration-color: #7fbfbf\">14:01:50 EST </span>status = queued                                                    \n",
       "</pre>\n"
      ],
      "text/plain": [
       "\u001b[2;36m14:01:50 EST\u001b[0m\u001b[2;36m \u001b[0mstatus = queued                                                    \n"
      ]
     },
     "metadata": {},
     "output_type": "display_data"
    },
    {
     "data": {
      "text/html": [
       "<pre style=\"white-space:pre;overflow-x:auto;line-height:normal;font-family:Menlo,'DejaVu Sans Mono',consolas,'Courier New',monospace\"><span style=\"color: #7fbfbf; text-decoration-color: #7fbfbf\">             </span>To cancel the simulation, use <span style=\"color: #008000; text-decoration-color: #008000\">'web.abort(task_id)'</span> or              \n",
       "<span style=\"color: #7fbfbf; text-decoration-color: #7fbfbf\">             </span><span style=\"color: #008000; text-decoration-color: #008000\">'web.delete(task_id)'</span> or abort/delete the task in the web UI.      \n",
       "<span style=\"color: #7fbfbf; text-decoration-color: #7fbfbf\">             </span>Terminating the Python script will not stop the job running on the \n",
       "<span style=\"color: #7fbfbf; text-decoration-color: #7fbfbf\">             </span>cloud.                                                             \n",
       "</pre>\n"
      ],
      "text/plain": [
       "\u001b[2;36m            \u001b[0m\u001b[2;36m \u001b[0mTo cancel the simulation, use \u001b[32m'web.abort\u001b[0m\u001b[32m(\u001b[0m\u001b[32mtask_id\u001b[0m\u001b[32m)\u001b[0m\u001b[32m'\u001b[0m or              \n",
       "\u001b[2;36m             \u001b[0m\u001b[32m'web.delete\u001b[0m\u001b[32m(\u001b[0m\u001b[32mtask_id\u001b[0m\u001b[32m)\u001b[0m\u001b[32m'\u001b[0m or abort/delete the task in the web UI.      \n",
       "\u001b[2;36m             \u001b[0mTerminating the Python script will not stop the job running on the \n",
       "\u001b[2;36m             \u001b[0mcloud.                                                             \n"
      ]
     },
     "metadata": {},
     "output_type": "display_data"
    },
    {
     "data": {
      "application/vnd.jupyter.widget-view+json": {
       "model_id": "",
       "version_major": 2,
       "version_minor": 0
      },
      "text/plain": [
       "Output()"
      ]
     },
     "metadata": {},
     "output_type": "display_data"
    },
    {
     "data": {
      "text/html": [
       "<pre style=\"white-space:pre;overflow-x:auto;line-height:normal;font-family:Menlo,'DejaVu Sans Mono',consolas,'Courier New',monospace\"><span style=\"color: #7fbfbf; text-decoration-color: #7fbfbf\">14:01:55 EST </span>status = preprocess                                                \n",
       "</pre>\n"
      ],
      "text/plain": [
       "\u001b[2;36m14:01:55 EST\u001b[0m\u001b[2;36m \u001b[0mstatus = preprocess                                                \n"
      ]
     },
     "metadata": {},
     "output_type": "display_data"
    },
    {
     "data": {
      "text/html": [
       "<pre style=\"white-space:pre;overflow-x:auto;line-height:normal;font-family:Menlo,'DejaVu Sans Mono',consolas,'Courier New',monospace\"></pre>\n"
      ],
      "text/plain": []
     },
     "metadata": {},
     "output_type": "display_data"
    },
    {
     "data": {
      "text/html": [
       "<pre style=\"white-space:pre;overflow-x:auto;line-height:normal;font-family:Menlo,'DejaVu Sans Mono',consolas,'Courier New',monospace\"><span style=\"color: #7fbfbf; text-decoration-color: #7fbfbf\">14:01:56 EST </span>Maximum FlexCredit cost: <span style=\"color: #008080; text-decoration-color: #008080; font-weight: bold\">0.025</span>. Use <span style=\"color: #008000; text-decoration-color: #008000\">'web.real_cost(task_id)'</span> to get\n",
       "<span style=\"color: #7fbfbf; text-decoration-color: #7fbfbf\">             </span>the billed FlexCredit cost after a simulation run.                 \n",
       "</pre>\n"
      ],
      "text/plain": [
       "\u001b[2;36m14:01:56 EST\u001b[0m\u001b[2;36m \u001b[0mMaximum FlexCredit cost: \u001b[1;36m0.025\u001b[0m. Use \u001b[32m'web.real_cost\u001b[0m\u001b[32m(\u001b[0m\u001b[32mtask_id\u001b[0m\u001b[32m)\u001b[0m\u001b[32m'\u001b[0m to get\n",
       "\u001b[2;36m             \u001b[0mthe billed FlexCredit cost after a simulation run.                 \n"
      ]
     },
     "metadata": {},
     "output_type": "display_data"
    },
    {
     "data": {
      "text/html": [
       "<pre style=\"white-space:pre;overflow-x:auto;line-height:normal;font-family:Menlo,'DejaVu Sans Mono',consolas,'Courier New',monospace\"><span style=\"color: #7fbfbf; text-decoration-color: #7fbfbf\">             </span>starting up solver                                                 \n",
       "</pre>\n"
      ],
      "text/plain": [
       "\u001b[2;36m            \u001b[0m\u001b[2;36m \u001b[0mstarting up solver                                                 \n"
      ]
     },
     "metadata": {},
     "output_type": "display_data"
    },
    {
     "data": {
      "text/html": [
       "<pre style=\"white-space:pre;overflow-x:auto;line-height:normal;font-family:Menlo,'DejaVu Sans Mono',consolas,'Courier New',monospace\"><span style=\"color: #7fbfbf; text-decoration-color: #7fbfbf\">             </span>running solver                                                     \n",
       "</pre>\n"
      ],
      "text/plain": [
       "\u001b[2;36m            \u001b[0m\u001b[2;36m \u001b[0mrunning solver                                                     \n"
      ]
     },
     "metadata": {},
     "output_type": "display_data"
    },
    {
     "data": {
      "application/vnd.jupyter.widget-view+json": {
       "model_id": "ec978a9210ce4fb5b47e8979b8c5156e",
       "version_major": 2,
       "version_minor": 0
      },
      "text/plain": [
       "Output()"
      ]
     },
     "metadata": {},
     "output_type": "display_data"
    },
    {
     "data": {
      "text/html": [
       "<pre style=\"white-space:pre;overflow-x:auto;line-height:normal;font-family:Menlo,'DejaVu Sans Mono',consolas,'Courier New',monospace\"><span style=\"color: #7fbfbf; text-decoration-color: #7fbfbf\">14:02:04 EST </span>early shutoff detected at <span style=\"color: #008080; text-decoration-color: #008080; font-weight: bold\">48</span>%, exiting.                            \n",
       "</pre>\n"
      ],
      "text/plain": [
       "\u001b[2;36m14:02:04 EST\u001b[0m\u001b[2;36m \u001b[0mearly shutoff detected at \u001b[1;36m48\u001b[0m%, exiting.                            \n"
      ]
     },
     "metadata": {},
     "output_type": "display_data"
    },
    {
     "data": {
      "text/html": [
       "<pre style=\"white-space:pre;overflow-x:auto;line-height:normal;font-family:Menlo,'DejaVu Sans Mono',consolas,'Courier New',monospace\"></pre>\n"
      ],
      "text/plain": []
     },
     "metadata": {},
     "output_type": "display_data"
    },
    {
     "data": {
      "text/html": [
       "<pre style=\"white-space:pre;overflow-x:auto;line-height:normal;font-family:Menlo,'DejaVu Sans Mono',consolas,'Courier New',monospace\">\n",
       "</pre>\n"
      ],
      "text/plain": [
       "\n"
      ]
     },
     "metadata": {},
     "output_type": "display_data"
    },
    {
     "data": {
      "text/html": [
       "<pre style=\"white-space:pre;overflow-x:auto;line-height:normal;font-family:Menlo,'DejaVu Sans Mono',consolas,'Courier New',monospace\"><span style=\"color: #7fbfbf; text-decoration-color: #7fbfbf\">             </span>status = postprocess                                               \n",
       "</pre>\n"
      ],
      "text/plain": [
       "\u001b[2;36m            \u001b[0m\u001b[2;36m \u001b[0mstatus = postprocess                                               \n"
      ]
     },
     "metadata": {},
     "output_type": "display_data"
    },
    {
     "data": {
      "application/vnd.jupyter.widget-view+json": {
       "model_id": "",
       "version_major": 2,
       "version_minor": 0
      },
      "text/plain": [
       "Output()"
      ]
     },
     "metadata": {},
     "output_type": "display_data"
    },
    {
     "data": {
      "text/html": [
       "<pre style=\"white-space:pre;overflow-x:auto;line-height:normal;font-family:Menlo,'DejaVu Sans Mono',consolas,'Courier New',monospace\"><span style=\"color: #7fbfbf; text-decoration-color: #7fbfbf\">             </span>status = success                                                   \n",
       "</pre>\n"
      ],
      "text/plain": [
       "\u001b[2;36m            \u001b[0m\u001b[2;36m \u001b[0mstatus = success                                                   \n"
      ]
     },
     "metadata": {},
     "output_type": "display_data"
    },
    {
     "data": {
      "text/html": [
       "<pre style=\"white-space:pre;overflow-x:auto;line-height:normal;font-family:Menlo,'DejaVu Sans Mono',consolas,'Courier New',monospace\"></pre>\n"
      ],
      "text/plain": []
     },
     "metadata": {},
     "output_type": "display_data"
    },
    {
     "data": {
      "text/html": [
       "<pre style=\"white-space:pre;overflow-x:auto;line-height:normal;font-family:Menlo,'DejaVu Sans Mono',consolas,'Courier New',monospace\"><span style=\"color: #7fbfbf; text-decoration-color: #7fbfbf\">14:02:05 EST </span>View simulation result at                                          \n",
       "<span style=\"color: #7fbfbf; text-decoration-color: #7fbfbf\">             </span><a href=\"https://tidy3d.simulation.cloud/workbench?taskId=fdve-4cb0b3d9-c535-4534-8dc7-04a64653ce14\" target=\"_blank\"><span style=\"color: #000080; text-decoration-color: #000080; text-decoration: underline\">'https://tidy3d.simulation.cloud/workbench?taskId=fdve-4cb0b3d9-c53</span></a>\n",
       "<span style=\"color: #7fbfbf; text-decoration-color: #7fbfbf\">             </span><a href=\"https://tidy3d.simulation.cloud/workbench?taskId=fdve-4cb0b3d9-c535-4534-8dc7-04a64653ce14\" target=\"_blank\"><span style=\"color: #000080; text-decoration-color: #000080; text-decoration: underline\">5-4534-8dc7-04a64653ce14'</span></a><span style=\"color: #000080; text-decoration-color: #000080; text-decoration: underline\">.</span>                                         \n",
       "</pre>\n"
      ],
      "text/plain": [
       "\u001b[2;36m14:02:05 EST\u001b[0m\u001b[2;36m \u001b[0mView simulation result at                                          \n",
       "\u001b[2;36m             \u001b[0m\u001b]8;id=132861;https://tidy3d.simulation.cloud/workbench?taskId=fdve-4cb0b3d9-c535-4534-8dc7-04a64653ce14\u001b\\\u001b[4;34m'https://tidy3d.simulation.cloud/workbench?\u001b[0m\u001b]8;;\u001b\\\u001b]8;id=668189;https://tidy3d.simulation.cloud/workbench?taskId=fdve-4cb0b3d9-c535-4534-8dc7-04a64653ce14\u001b\\\u001b[4;34mtaskId\u001b[0m\u001b]8;;\u001b\\\u001b]8;id=132861;https://tidy3d.simulation.cloud/workbench?taskId=fdve-4cb0b3d9-c535-4534-8dc7-04a64653ce14\u001b\\\u001b[4;34m=\u001b[0m\u001b]8;;\u001b\\\u001b]8;id=984912;https://tidy3d.simulation.cloud/workbench?taskId=fdve-4cb0b3d9-c535-4534-8dc7-04a64653ce14\u001b\\\u001b[4;34mfdve\u001b[0m\u001b]8;;\u001b\\\u001b]8;id=132861;https://tidy3d.simulation.cloud/workbench?taskId=fdve-4cb0b3d9-c535-4534-8dc7-04a64653ce14\u001b\\\u001b[4;34m-4cb0b3d9-c53\u001b[0m\u001b]8;;\u001b\\\n",
       "\u001b[2;36m             \u001b[0m\u001b]8;id=132861;https://tidy3d.simulation.cloud/workbench?taskId=fdve-4cb0b3d9-c535-4534-8dc7-04a64653ce14\u001b\\\u001b[4;34m5-4534-8dc7-04a64653ce14'\u001b[0m\u001b]8;;\u001b\\\u001b[4;34m.\u001b[0m                                         \n"
      ]
     },
     "metadata": {},
     "output_type": "display_data"
    },
    {
     "data": {
      "application/vnd.jupyter.widget-view+json": {
       "model_id": "c92e1519958146babdda6ab9db74068c",
       "version_major": 2,
       "version_minor": 0
      },
      "text/plain": [
       "Output()"
      ]
     },
     "metadata": {},
     "output_type": "display_data"
    },
    {
     "data": {
      "text/html": [
       "<pre style=\"white-space:pre;overflow-x:auto;line-height:normal;font-family:Menlo,'DejaVu Sans Mono',consolas,'Courier New',monospace\"></pre>\n"
      ],
      "text/plain": []
     },
     "metadata": {},
     "output_type": "display_data"
    },
    {
     "data": {
      "text/html": [
       "<pre style=\"white-space:pre;overflow-x:auto;line-height:normal;font-family:Menlo,'DejaVu Sans Mono',consolas,'Courier New',monospace\">\n",
       "</pre>\n"
      ],
      "text/plain": [
       "\n"
      ]
     },
     "metadata": {},
     "output_type": "display_data"
    },
    {
     "data": {
      "text/html": [
       "<pre style=\"white-space:pre;overflow-x:auto;line-height:normal;font-family:Menlo,'DejaVu Sans Mono',consolas,'Courier New',monospace\"><span style=\"color: #7fbfbf; text-decoration-color: #7fbfbf\">             </span>loading simulation from simulation_data.hdf5                       \n",
       "</pre>\n"
      ],
      "text/plain": [
       "\u001b[2;36m            \u001b[0m\u001b[2;36m \u001b[0mloading simulation from simulation_data.hdf5                       \n"
      ]
     },
     "metadata": {},
     "output_type": "display_data"
    },
    {
     "data": {
      "text/html": [
       "<pre style=\"white-space:pre;overflow-x:auto;line-height:normal;font-family:Menlo,'DejaVu Sans Mono',consolas,'Courier New',monospace\"><span style=\"color: #7fbfbf; text-decoration-color: #7fbfbf\">             </span>Created task <span style=\"color: #008000; text-decoration-color: #008000\">'2.5D FDTD splitter 3D'</span> with task_id                  \n",
       "<span style=\"color: #7fbfbf; text-decoration-color: #7fbfbf\">             </span><span style=\"color: #008000; text-decoration-color: #008000\">'fdve-6d645823-3048-4598-a4c7-8c0959f8685c'</span> and task_type <span style=\"color: #008000; text-decoration-color: #008000\">'FDTD'</span>.  \n",
       "</pre>\n"
      ],
      "text/plain": [
       "\u001b[2;36m            \u001b[0m\u001b[2;36m \u001b[0mCreated task \u001b[32m'2.5D FDTD splitter 3D'\u001b[0m with task_id                  \n",
       "\u001b[2;36m             \u001b[0m\u001b[32m'fdve-6d645823-3048-4598-a4c7-8c0959f8685c'\u001b[0m and task_type \u001b[32m'FDTD'\u001b[0m.  \n"
      ]
     },
     "metadata": {},
     "output_type": "display_data"
    },
    {
     "data": {
      "text/html": [
       "<pre style=\"white-space:pre;overflow-x:auto;line-height:normal;font-family:Menlo,'DejaVu Sans Mono',consolas,'Courier New',monospace\"><span style=\"color: #7fbfbf; text-decoration-color: #7fbfbf\">             </span>View task using web UI at                                          \n",
       "<span style=\"color: #7fbfbf; text-decoration-color: #7fbfbf\">             </span><a href=\"https://tidy3d.simulation.cloud/workbench?taskId=fdve-6d645823-3048-4598-a4c7-8c0959f8685c\" target=\"_blank\"><span style=\"color: #008000; text-decoration-color: #008000\">'https://tidy3d.simulation.cloud/workbench?taskId=fdve-6d645823-304</span></a>\n",
       "<span style=\"color: #7fbfbf; text-decoration-color: #7fbfbf\">             </span><a href=\"https://tidy3d.simulation.cloud/workbench?taskId=fdve-6d645823-3048-4598-a4c7-8c0959f8685c\" target=\"_blank\"><span style=\"color: #008000; text-decoration-color: #008000\">8-4598-a4c7-8c0959f8685c'</span></a>.                                         \n",
       "</pre>\n"
      ],
      "text/plain": [
       "\u001b[2;36m            \u001b[0m\u001b[2;36m \u001b[0mView task using web UI at                                          \n",
       "\u001b[2;36m             \u001b[0m\u001b]8;id=849190;https://tidy3d.simulation.cloud/workbench?taskId=fdve-6d645823-3048-4598-a4c7-8c0959f8685c\u001b\\\u001b[32m'https://tidy3d.simulation.cloud/workbench?\u001b[0m\u001b]8;;\u001b\\\u001b]8;id=771626;https://tidy3d.simulation.cloud/workbench?taskId=fdve-6d645823-3048-4598-a4c7-8c0959f8685c\u001b\\\u001b[32mtaskId\u001b[0m\u001b]8;;\u001b\\\u001b]8;id=849190;https://tidy3d.simulation.cloud/workbench?taskId=fdve-6d645823-3048-4598-a4c7-8c0959f8685c\u001b\\\u001b[32m=\u001b[0m\u001b]8;;\u001b\\\u001b]8;id=344104;https://tidy3d.simulation.cloud/workbench?taskId=fdve-6d645823-3048-4598-a4c7-8c0959f8685c\u001b\\\u001b[32mfdve\u001b[0m\u001b]8;;\u001b\\\u001b]8;id=849190;https://tidy3d.simulation.cloud/workbench?taskId=fdve-6d645823-3048-4598-a4c7-8c0959f8685c\u001b\\\u001b[32m-6d645823-304\u001b[0m\u001b]8;;\u001b\\\n",
       "\u001b[2;36m             \u001b[0m\u001b]8;id=849190;https://tidy3d.simulation.cloud/workbench?taskId=fdve-6d645823-3048-4598-a4c7-8c0959f8685c\u001b\\\u001b[32m8-4598-a4c7-8c0959f8685c'\u001b[0m\u001b]8;;\u001b\\.                                         \n"
      ]
     },
     "metadata": {},
     "output_type": "display_data"
    },
    {
     "data": {
      "application/vnd.jupyter.widget-view+json": {
       "model_id": "82b9976a9b8842edab1ec48fc467ef51",
       "version_major": 2,
       "version_minor": 0
      },
      "text/plain": [
       "Output()"
      ]
     },
     "metadata": {},
     "output_type": "display_data"
    },
    {
     "data": {
      "text/html": [
       "<pre style=\"white-space:pre;overflow-x:auto;line-height:normal;font-family:Menlo,'DejaVu Sans Mono',consolas,'Courier New',monospace\"></pre>\n"
      ],
      "text/plain": []
     },
     "metadata": {},
     "output_type": "display_data"
    },
    {
     "data": {
      "text/html": [
       "<pre style=\"white-space:pre;overflow-x:auto;line-height:normal;font-family:Menlo,'DejaVu Sans Mono',consolas,'Courier New',monospace\">\n",
       "</pre>\n"
      ],
      "text/plain": [
       "\n"
      ]
     },
     "metadata": {},
     "output_type": "display_data"
    },
    {
     "data": {
      "text/html": [
       "<pre style=\"white-space:pre;overflow-x:auto;line-height:normal;font-family:Menlo,'DejaVu Sans Mono',consolas,'Courier New',monospace\"><span style=\"color: #7fbfbf; text-decoration-color: #7fbfbf\">14:02:07 EST </span>status = queued                                                    \n",
       "</pre>\n"
      ],
      "text/plain": [
       "\u001b[2;36m14:02:07 EST\u001b[0m\u001b[2;36m \u001b[0mstatus = queued                                                    \n"
      ]
     },
     "metadata": {},
     "output_type": "display_data"
    },
    {
     "data": {
      "text/html": [
       "<pre style=\"white-space:pre;overflow-x:auto;line-height:normal;font-family:Menlo,'DejaVu Sans Mono',consolas,'Courier New',monospace\"><span style=\"color: #7fbfbf; text-decoration-color: #7fbfbf\">             </span>To cancel the simulation, use <span style=\"color: #008000; text-decoration-color: #008000\">'web.abort(task_id)'</span> or              \n",
       "<span style=\"color: #7fbfbf; text-decoration-color: #7fbfbf\">             </span><span style=\"color: #008000; text-decoration-color: #008000\">'web.delete(task_id)'</span> or abort/delete the task in the web UI.      \n",
       "<span style=\"color: #7fbfbf; text-decoration-color: #7fbfbf\">             </span>Terminating the Python script will not stop the job running on the \n",
       "<span style=\"color: #7fbfbf; text-decoration-color: #7fbfbf\">             </span>cloud.                                                             \n",
       "</pre>\n"
      ],
      "text/plain": [
       "\u001b[2;36m            \u001b[0m\u001b[2;36m \u001b[0mTo cancel the simulation, use \u001b[32m'web.abort\u001b[0m\u001b[32m(\u001b[0m\u001b[32mtask_id\u001b[0m\u001b[32m)\u001b[0m\u001b[32m'\u001b[0m or              \n",
       "\u001b[2;36m             \u001b[0m\u001b[32m'web.delete\u001b[0m\u001b[32m(\u001b[0m\u001b[32mtask_id\u001b[0m\u001b[32m)\u001b[0m\u001b[32m'\u001b[0m or abort/delete the task in the web UI.      \n",
       "\u001b[2;36m             \u001b[0mTerminating the Python script will not stop the job running on the \n",
       "\u001b[2;36m             \u001b[0mcloud.                                                             \n"
      ]
     },
     "metadata": {},
     "output_type": "display_data"
    },
    {
     "data": {
      "application/vnd.jupyter.widget-view+json": {
       "model_id": "",
       "version_major": 2,
       "version_minor": 0
      },
      "text/plain": [
       "Output()"
      ]
     },
     "metadata": {},
     "output_type": "display_data"
    },
    {
     "data": {
      "text/html": [
       "<pre style=\"white-space:pre;overflow-x:auto;line-height:normal;font-family:Menlo,'DejaVu Sans Mono',consolas,'Courier New',monospace\"><span style=\"color: #7fbfbf; text-decoration-color: #7fbfbf\">14:02:11 EST </span>status = preprocess                                                \n",
       "</pre>\n"
      ],
      "text/plain": [
       "\u001b[2;36m14:02:11 EST\u001b[0m\u001b[2;36m \u001b[0mstatus = preprocess                                                \n"
      ]
     },
     "metadata": {},
     "output_type": "display_data"
    },
    {
     "data": {
      "text/html": [
       "<pre style=\"white-space:pre;overflow-x:auto;line-height:normal;font-family:Menlo,'DejaVu Sans Mono',consolas,'Courier New',monospace\"></pre>\n"
      ],
      "text/plain": []
     },
     "metadata": {},
     "output_type": "display_data"
    },
    {
     "data": {
      "text/html": [
       "<pre style=\"white-space:pre;overflow-x:auto;line-height:normal;font-family:Menlo,'DejaVu Sans Mono',consolas,'Courier New',monospace\"><span style=\"color: #7fbfbf; text-decoration-color: #7fbfbf\">14:02:13 EST </span>Maximum FlexCredit cost: <span style=\"color: #008080; text-decoration-color: #008080; font-weight: bold\">0.055</span>. Use <span style=\"color: #008000; text-decoration-color: #008000\">'web.real_cost(task_id)'</span> to get\n",
       "<span style=\"color: #7fbfbf; text-decoration-color: #7fbfbf\">             </span>the billed FlexCredit cost after a simulation run.                 \n",
       "</pre>\n"
      ],
      "text/plain": [
       "\u001b[2;36m14:02:13 EST\u001b[0m\u001b[2;36m \u001b[0mMaximum FlexCredit cost: \u001b[1;36m0.055\u001b[0m. Use \u001b[32m'web.real_cost\u001b[0m\u001b[32m(\u001b[0m\u001b[32mtask_id\u001b[0m\u001b[32m)\u001b[0m\u001b[32m'\u001b[0m to get\n",
       "\u001b[2;36m             \u001b[0mthe billed FlexCredit cost after a simulation run.                 \n"
      ]
     },
     "metadata": {},
     "output_type": "display_data"
    },
    {
     "data": {
      "text/html": [
       "<pre style=\"white-space:pre;overflow-x:auto;line-height:normal;font-family:Menlo,'DejaVu Sans Mono',consolas,'Courier New',monospace\"><span style=\"color: #7fbfbf; text-decoration-color: #7fbfbf\">             </span>starting up solver                                                 \n",
       "</pre>\n"
      ],
      "text/plain": [
       "\u001b[2;36m            \u001b[0m\u001b[2;36m \u001b[0mstarting up solver                                                 \n"
      ]
     },
     "metadata": {},
     "output_type": "display_data"
    },
    {
     "data": {
      "text/html": [
       "<pre style=\"white-space:pre;overflow-x:auto;line-height:normal;font-family:Menlo,'DejaVu Sans Mono',consolas,'Courier New',monospace\"><span style=\"color: #7fbfbf; text-decoration-color: #7fbfbf\">             </span>running solver                                                     \n",
       "</pre>\n"
      ],
      "text/plain": [
       "\u001b[2;36m            \u001b[0m\u001b[2;36m \u001b[0mrunning solver                                                     \n"
      ]
     },
     "metadata": {},
     "output_type": "display_data"
    },
    {
     "data": {
      "application/vnd.jupyter.widget-view+json": {
       "model_id": "7ced6889c30d4a2292003b03da51cf62",
       "version_major": 2,
       "version_minor": 0
      },
      "text/plain": [
       "Output()"
      ]
     },
     "metadata": {},
     "output_type": "display_data"
    },
    {
     "data": {
      "text/html": [
       "<pre style=\"white-space:pre;overflow-x:auto;line-height:normal;font-family:Menlo,'DejaVu Sans Mono',consolas,'Courier New',monospace\"><span style=\"color: #7fbfbf; text-decoration-color: #7fbfbf\">14:02:39 EST </span>early shutoff detected at <span style=\"color: #008080; text-decoration-color: #008080; font-weight: bold\">36</span>%, exiting.                            \n",
       "</pre>\n"
      ],
      "text/plain": [
       "\u001b[2;36m14:02:39 EST\u001b[0m\u001b[2;36m \u001b[0mearly shutoff detected at \u001b[1;36m36\u001b[0m%, exiting.                            \n"
      ]
     },
     "metadata": {},
     "output_type": "display_data"
    },
    {
     "data": {
      "text/html": [
       "<pre style=\"white-space:pre;overflow-x:auto;line-height:normal;font-family:Menlo,'DejaVu Sans Mono',consolas,'Courier New',monospace\"></pre>\n"
      ],
      "text/plain": []
     },
     "metadata": {},
     "output_type": "display_data"
    },
    {
     "data": {
      "text/html": [
       "<pre style=\"white-space:pre;overflow-x:auto;line-height:normal;font-family:Menlo,'DejaVu Sans Mono',consolas,'Courier New',monospace\">\n",
       "</pre>\n"
      ],
      "text/plain": [
       "\n"
      ]
     },
     "metadata": {},
     "output_type": "display_data"
    },
    {
     "data": {
      "text/html": [
       "<pre style=\"white-space:pre;overflow-x:auto;line-height:normal;font-family:Menlo,'DejaVu Sans Mono',consolas,'Courier New',monospace\"><span style=\"color: #7fbfbf; text-decoration-color: #7fbfbf\">             </span>status = postprocess                                               \n",
       "</pre>\n"
      ],
      "text/plain": [
       "\u001b[2;36m            \u001b[0m\u001b[2;36m \u001b[0mstatus = postprocess                                               \n"
      ]
     },
     "metadata": {},
     "output_type": "display_data"
    },
    {
     "data": {
      "application/vnd.jupyter.widget-view+json": {
       "model_id": "",
       "version_major": 2,
       "version_minor": 0
      },
      "text/plain": [
       "Output()"
      ]
     },
     "metadata": {},
     "output_type": "display_data"
    },
    {
     "data": {
      "text/html": [
       "<pre style=\"white-space:pre;overflow-x:auto;line-height:normal;font-family:Menlo,'DejaVu Sans Mono',consolas,'Courier New',monospace\"><span style=\"color: #7fbfbf; text-decoration-color: #7fbfbf\">14:02:43 EST </span>status = success                                                   \n",
       "</pre>\n"
      ],
      "text/plain": [
       "\u001b[2;36m14:02:43 EST\u001b[0m\u001b[2;36m \u001b[0mstatus = success                                                   \n"
      ]
     },
     "metadata": {},
     "output_type": "display_data"
    },
    {
     "data": {
      "text/html": [
       "<pre style=\"white-space:pre;overflow-x:auto;line-height:normal;font-family:Menlo,'DejaVu Sans Mono',consolas,'Courier New',monospace\"></pre>\n"
      ],
      "text/plain": []
     },
     "metadata": {},
     "output_type": "display_data"
    },
    {
     "data": {
      "text/html": [
       "<pre style=\"white-space:pre;overflow-x:auto;line-height:normal;font-family:Menlo,'DejaVu Sans Mono',consolas,'Courier New',monospace\"><span style=\"color: #7fbfbf; text-decoration-color: #7fbfbf\">             </span>View simulation result at                                          \n",
       "<span style=\"color: #7fbfbf; text-decoration-color: #7fbfbf\">             </span><a href=\"https://tidy3d.simulation.cloud/workbench?taskId=fdve-6d645823-3048-4598-a4c7-8c0959f8685c\" target=\"_blank\"><span style=\"color: #000080; text-decoration-color: #000080; text-decoration: underline\">'https://tidy3d.simulation.cloud/workbench?taskId=fdve-6d645823-304</span></a>\n",
       "<span style=\"color: #7fbfbf; text-decoration-color: #7fbfbf\">             </span><a href=\"https://tidy3d.simulation.cloud/workbench?taskId=fdve-6d645823-3048-4598-a4c7-8c0959f8685c\" target=\"_blank\"><span style=\"color: #000080; text-decoration-color: #000080; text-decoration: underline\">8-4598-a4c7-8c0959f8685c'</span></a><span style=\"color: #000080; text-decoration-color: #000080; text-decoration: underline\">.</span>                                         \n",
       "</pre>\n"
      ],
      "text/plain": [
       "\u001b[2;36m            \u001b[0m\u001b[2;36m \u001b[0mView simulation result at                                          \n",
       "\u001b[2;36m             \u001b[0m\u001b]8;id=963963;https://tidy3d.simulation.cloud/workbench?taskId=fdve-6d645823-3048-4598-a4c7-8c0959f8685c\u001b\\\u001b[4;34m'https://tidy3d.simulation.cloud/workbench?\u001b[0m\u001b]8;;\u001b\\\u001b]8;id=427813;https://tidy3d.simulation.cloud/workbench?taskId=fdve-6d645823-3048-4598-a4c7-8c0959f8685c\u001b\\\u001b[4;34mtaskId\u001b[0m\u001b]8;;\u001b\\\u001b]8;id=963963;https://tidy3d.simulation.cloud/workbench?taskId=fdve-6d645823-3048-4598-a4c7-8c0959f8685c\u001b\\\u001b[4;34m=\u001b[0m\u001b]8;;\u001b\\\u001b]8;id=904508;https://tidy3d.simulation.cloud/workbench?taskId=fdve-6d645823-3048-4598-a4c7-8c0959f8685c\u001b\\\u001b[4;34mfdve\u001b[0m\u001b]8;;\u001b\\\u001b]8;id=963963;https://tidy3d.simulation.cloud/workbench?taskId=fdve-6d645823-3048-4598-a4c7-8c0959f8685c\u001b\\\u001b[4;34m-6d645823-304\u001b[0m\u001b]8;;\u001b\\\n",
       "\u001b[2;36m             \u001b[0m\u001b]8;id=963963;https://tidy3d.simulation.cloud/workbench?taskId=fdve-6d645823-3048-4598-a4c7-8c0959f8685c\u001b\\\u001b[4;34m8-4598-a4c7-8c0959f8685c'\u001b[0m\u001b]8;;\u001b\\\u001b[4;34m.\u001b[0m                                         \n"
      ]
     },
     "metadata": {},
     "output_type": "display_data"
    },
    {
     "data": {
      "application/vnd.jupyter.widget-view+json": {
       "model_id": "fccf4d62df404997a2948473019a69c0",
       "version_major": 2,
       "version_minor": 0
      },
      "text/plain": [
       "Output()"
      ]
     },
     "metadata": {},
     "output_type": "display_data"
    },
    {
     "data": {
      "text/html": [
       "<pre style=\"white-space:pre;overflow-x:auto;line-height:normal;font-family:Menlo,'DejaVu Sans Mono',consolas,'Courier New',monospace\"></pre>\n"
      ],
      "text/plain": []
     },
     "metadata": {},
     "output_type": "display_data"
    },
    {
     "data": {
      "text/html": [
       "<pre style=\"white-space:pre;overflow-x:auto;line-height:normal;font-family:Menlo,'DejaVu Sans Mono',consolas,'Courier New',monospace\">\n",
       "</pre>\n"
      ],
      "text/plain": [
       "\n"
      ]
     },
     "metadata": {},
     "output_type": "display_data"
    },
    {
     "data": {
      "text/html": [
       "<pre style=\"white-space:pre;overflow-x:auto;line-height:normal;font-family:Menlo,'DejaVu Sans Mono',consolas,'Courier New',monospace\"><span style=\"color: #7fbfbf; text-decoration-color: #7fbfbf\">14:02:44 EST </span>loading simulation from simulation_data.hdf5                       \n",
       "</pre>\n"
      ],
      "text/plain": [
       "\u001b[2;36m14:02:44 EST\u001b[0m\u001b[2;36m \u001b[0mloading simulation from simulation_data.hdf5                       \n"
      ]
     },
     "metadata": {},
     "output_type": "display_data"
    }
   ],
   "source": [
    "sim_splitter_data_2D = web.run(sim_splitter_2D, task_name=\"2.5D FDTD splitter 2D\")\n",
    "sim_splitter_data_3D = web.run(sim_splitter_3D, task_name=\"2.5D FDTD splitter 3D\")"
   ]
  },
  {
   "cell_type": "markdown",
   "id": "f23b0d3d-5899-479f-9c8a-a391850dff8d",
   "metadata": {},
   "source": [
    "### Counter-example Results\n",
    "\n",
    "Plotting the mode transmissions from the 2D and 3D simulations, we can see that the 2D transmission is significantly lower than that of the 3D simulation."
   ]
  },
  {
   "cell_type": "code",
   "execution_count": 21,
   "id": "323a692c-77d9-4c87-be98-4a69c5501c3d",
   "metadata": {},
   "outputs": [
    {
     "data": {
      "image/png": "[encoded data removed]",
      "text/plain": [
       "<Figure size 640x480 with 1 Axes>"
      ]
     },
     "metadata": {},
     "output_type": "display_data"
    }
   ],
   "source": [
    "T_2D = np.abs(sim_splitter_data_2D[\"mode\"].amps.sel(mode_index=0, direction=\"+\")) ** 2\n",
    "T_3D = np.abs(sim_splitter_data_3D[\"mode\"].amps.sel(mode_index=0, direction=\"+\")) ** 2\n",
    "\n",
    "# plot the coupling efficiency\n",
    "plt.plot(ldas, T_2D, label=\"2D\")\n",
    "plt.plot(ldas, T_3D, label=\"3D\")\n",
    "plt.xlim(1.5, 1.6)\n",
    "plt.ylim(0, 1)\n",
    "plt.title(\"Strip-to-slot Coupling Efficiency\")\n",
    "plt.xlabel(\"Wavelength ($\\mu m$)\")\n",
    "plt.ylabel(\"Transmission\")\n",
    "plt.legend()\n",
    "plt.show()"
   ]
  },
  {
   "cell_type": "markdown",
   "id": "aa05c4dd-3f8f-4ee5-93b4-6d0bac511c8d",
   "metadata": {},
   "source": [
    "This shows that, depending on the mode profile in z, we can get differences in permittivity from the variational method that do not accurately capture the physics of the original simulation, as mentioned in Hammer & Ivanova. Therefore care must be taken when deciding on this approximation method, and, when possible, a final validation with a 3D simulation should be run."
   ]
  },
  {
   "cell_type": "code",
   "execution_count": null,
   "id": "b19d3188-0686-4aa3-8681-a0b0cce69edb",
   "metadata": {},
   "outputs": [],
   "source": []
  }
 ],
 "metadata": {
  "applications": [
   "Passive photonic integrated circuit components"
  ],
  "description": "When doing design exploration, one can greatly reduce the amount of time and computational power needed by running 2D approximations of 3D simulations. This notebook shows how to use the variational method to calculate the effective permittivity of materials used in certain 3D simulations, and makes 2D approximations of those simulations.",
  "feature_image": "./img/effective_index_approximation.png",
  "features": [
   "GDS component",
   "Material fitting",
   "2D simulation"
  ],
  "kernelspec": {
   "display_name": "Python 3 (ipykernel)",
   "language": "python",
   "name": "python3"
  },
  "keywords": "variational, effective, index, approximation, 2D, two-dimensional, vertical, mode, permittivity",
  "language_info": {
   "codemirror_mode": {
    "name": "ipython",
    "version": 3
   },
   "file_extension": ".py",
   "mimetype": "text/x-python",
   "name": "python",
   "nbconvert_exporter": "python",
   "pygments_lexer": "ipython3",
   "version": "3.11.8"
  },
  "title": "How to approximate 3D simulations with effective permittivity in Tidy3D FDTD"
 },
 "nbformat": 4,
 "nbformat_minor": 5
}
